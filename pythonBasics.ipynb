{
  "nbformat": 4,
  "nbformat_minor": 0,
  "metadata": {
    "colab": {
      "provenance": [],
      "authorship_tag": "ABX9TyOzfqD6aDedsGJ9bSVmpqAQ",
      "include_colab_link": true
    },
    "kernelspec": {
      "name": "python3",
      "display_name": "Python 3"
    },
    "language_info": {
      "name": "python"
    }
  },
  "cells": [
    {
      "cell_type": "markdown",
      "metadata": {
        "id": "view-in-github",
        "colab_type": "text"
      },
      "source": [
        "<a href=\"https://colab.research.google.com/github/Musfirah-Ansari/pythonBasics/blob/main/pythonBasics.ipynb\" target=\"_parent\"><img src=\"https://colab.research.google.com/assets/colab-badge.svg\" alt=\"Open In Colab\"/></a>"
      ]
    },
    {
      "cell_type": "code",
      "execution_count": 1,
      "metadata": {
        "colab": {
          "base_uri": "https://localhost:8080/"
        },
        "id": "5ThopGGnRUxl",
        "outputId": "715b65a4-abcf-40dd-8172-322f33bc2699"
      },
      "outputs": [
        {
          "output_type": "stream",
          "name": "stdout",
          "text": [
            "Machine Learning\n"
          ]
        }
      ],
      "source": [
        "print(\"Machine Learning\")"
      ]
    },
    {
      "cell_type": "code",
      "source": [
        "x = 5\n",
        "if x > 10:\n",
        "  print(\"x is greater than 10\")"
      ],
      "metadata": {
        "id": "i1VIyhO4R7AN"
      },
      "execution_count": 3,
      "outputs": []
    },
    {
      "cell_type": "code",
      "source": [
        "name = \"musfirah\""
      ],
      "metadata": {
        "id": "GlcOmx78Sjfm"
      },
      "execution_count": 6,
      "outputs": []
    },
    {
      "cell_type": "code",
      "source": [
        "print(type(name))"
      ],
      "metadata": {
        "colab": {
          "base_uri": "https://localhost:8080/"
        },
        "id": "OwHflbAkTboV",
        "outputId": "ad1d3fe0-8fb1-4627-f542-45abeadd0026"
      },
      "execution_count": 20,
      "outputs": [
        {
          "output_type": "stream",
          "name": "stdout",
          "text": [
            "<class 'str'>\n"
          ]
        }
      ]
    },
    {
      "cell_type": "code",
      "source": [
        "age = 22"
      ],
      "metadata": {
        "id": "8_RIrAUgTe5T"
      },
      "execution_count": 8,
      "outputs": []
    },
    {
      "cell_type": "code",
      "source": [
        "work = \"Software developer\""
      ],
      "metadata": {
        "id": "eeGE2MtGTtlU"
      },
      "execution_count": 9,
      "outputs": []
    },
    {
      "cell_type": "code",
      "source": [
        "workplace = \"BankAlfalah\""
      ],
      "metadata": {
        "id": "jWvc5F6eT1VJ"
      },
      "execution_count": 10,
      "outputs": []
    },
    {
      "cell_type": "code",
      "source": [
        "salary = 999999.00"
      ],
      "metadata": {
        "id": "eRfYqqMST5SD"
      },
      "execution_count": 17,
      "outputs": []
    },
    {
      "cell_type": "markdown",
      "source": [
        "# f string"
      ],
      "metadata": {
        "id": "CRzD75uCfmRw"
      }
    },
    {
      "cell_type": "code",
      "source": [
        "print(f\"My name is {name}. I am {age} years old. I work as a {work} at {workplace}. I earn {salary} per month\")\n"
      ],
      "metadata": {
        "colab": {
          "base_uri": "https://localhost:8080/"
        },
        "id": "EEl322oTUBJF",
        "outputId": "c72fd0ee-0845-414a-ca52-376b46891971"
      },
      "execution_count": 19,
      "outputs": [
        {
          "output_type": "stream",
          "name": "stdout",
          "text": [
            "My name is musfirah. I am 22 years old. I work as a Software developer at BankAlfalah. I earn 99999.0 per month\n"
          ]
        }
      ]
    },
    {
      "cell_type": "markdown",
      "source": [
        "# Types"
      ],
      "metadata": {
        "id": "wGRd6NpQftO4"
      }
    },
    {
      "cell_type": "code",
      "source": [
        "print(type(age))"
      ],
      "metadata": {
        "colab": {
          "base_uri": "https://localhost:8080/"
        },
        "id": "9g7famsbUZ9t",
        "outputId": "a85ba647-b79d-4541-f81a-92303572bebd"
      },
      "execution_count": 21,
      "outputs": [
        {
          "output_type": "stream",
          "name": "stdout",
          "text": [
            "<class 'int'>\n"
          ]
        }
      ]
    },
    {
      "cell_type": "code",
      "source": [
        "print(type(work))"
      ],
      "metadata": {
        "colab": {
          "base_uri": "https://localhost:8080/"
        },
        "id": "t-fq4u1BUdSk",
        "outputId": "1ccdb584-abef-4427-b398-32a7616d70f3"
      },
      "execution_count": 22,
      "outputs": [
        {
          "output_type": "stream",
          "name": "stdout",
          "text": [
            "<class 'str'>\n"
          ]
        }
      ]
    },
    {
      "cell_type": "code",
      "source": [
        "print(type(workplace))"
      ],
      "metadata": {
        "colab": {
          "base_uri": "https://localhost:8080/"
        },
        "id": "PZ2t2DsrU-JZ",
        "outputId": "f6831840-ecf3-4e51-d726-0d0891a92532"
      },
      "execution_count": 23,
      "outputs": [
        {
          "output_type": "stream",
          "name": "stdout",
          "text": [
            "<class 'str'>\n"
          ]
        }
      ]
    },
    {
      "cell_type": "code",
      "source": [
        "print(type(salary))"
      ],
      "metadata": {
        "colab": {
          "base_uri": "https://localhost:8080/"
        },
        "id": "nszVCbYkVB8W",
        "outputId": "69eb8c0a-f56c-404e-a1fc-b965cbfc451d"
      },
      "execution_count": 24,
      "outputs": [
        {
          "output_type": "stream",
          "name": "stdout",
          "text": [
            "<class 'float'>\n"
          ]
        }
      ]
    },
    {
      "cell_type": "code",
      "source": [
        "price = 35.67\n",
        "year = 2024\n",
        "is_admin = True"
      ],
      "metadata": {
        "id": "kg33RHXAVFnu"
      },
      "execution_count": 26,
      "outputs": []
    },
    {
      "cell_type": "code",
      "source": [
        "print(type(price))\n",
        "print(type(year))\n",
        "print(type(is_admin))"
      ],
      "metadata": {
        "colab": {
          "base_uri": "https://localhost:8080/"
        },
        "id": "-hdBDbDSVKPs",
        "outputId": "65c0133e-4610-4266-fc57-d6bb7d743472"
      },
      "execution_count": 27,
      "outputs": [
        {
          "output_type": "stream",
          "name": "stdout",
          "text": [
            "<class 'float'>\n",
            "<class 'int'>\n",
            "<class 'bool'>\n"
          ]
        }
      ]
    },
    {
      "cell_type": "code",
      "source": [
        "year = float(year)"
      ],
      "metadata": {
        "id": "yMWh1Kp1VT3B"
      },
      "execution_count": 28,
      "outputs": []
    },
    {
      "cell_type": "code",
      "source": [
        "print(type(year))"
      ],
      "metadata": {
        "colab": {
          "base_uri": "https://localhost:8080/"
        },
        "id": "W9FFXljbVXJ8",
        "outputId": "bfd8a7a2-d8a5-4858-87da-bcc956f1de4f"
      },
      "execution_count": 29,
      "outputs": [
        {
          "output_type": "stream",
          "name": "stdout",
          "text": [
            "<class 'float'>\n"
          ]
        }
      ]
    },
    {
      "cell_type": "markdown",
      "source": [
        "# Taking User input"
      ],
      "metadata": {
        "id": "QoC66GEufdGo"
      }
    },
    {
      "cell_type": "code",
      "source": [
        "my_name = input(\"Please enter your name here. \")"
      ],
      "metadata": {
        "colab": {
          "base_uri": "https://localhost:8080/"
        },
        "id": "KjYGWXbkVZMD",
        "outputId": "fc097957-5229-486d-8132-9ffe8f790dd0"
      },
      "execution_count": 41,
      "outputs": [
        {
          "name": "stdout",
          "output_type": "stream",
          "text": [
            "Please enter your name here. MUSFI\n"
          ]
        }
      ]
    },
    {
      "cell_type": "code",
      "source": [
        "print(my_name)"
      ],
      "metadata": {
        "colab": {
          "base_uri": "https://localhost:8080/"
        },
        "id": "59YvhQ6rVsbZ",
        "outputId": "b69a360c-84ed-4b08-ba72-1a077e5ff05f"
      },
      "execution_count": 42,
      "outputs": [
        {
          "output_type": "stream",
          "name": "stdout",
          "text": [
            "MUSFI\n"
          ]
        }
      ]
    },
    {
      "cell_type": "code",
      "source": [
        "my_age = input(\"Please enter your age \")"
      ],
      "metadata": {
        "colab": {
          "base_uri": "https://localhost:8080/"
        },
        "id": "8fckNJtdVwGk",
        "outputId": "3590d442-b125-4446-9fab-ee30179b97b1"
      },
      "execution_count": 49,
      "outputs": [
        {
          "name": "stdout",
          "output_type": "stream",
          "text": [
            "Please enter your age 311\n"
          ]
        }
      ]
    },
    {
      "cell_type": "code",
      "source": [
        "#Total = my_name + my_age\n",
        "Total = my_name + str(my_age)"
      ],
      "metadata": {
        "id": "c4DSvc0YWTX7"
      },
      "execution_count": 50,
      "outputs": []
    },
    {
      "cell_type": "code",
      "source": [
        "print(Total)"
      ],
      "metadata": {
        "colab": {
          "base_uri": "https://localhost:8080/"
        },
        "id": "XwKlv1TvWmlP",
        "outputId": "8207993e-4bf0-4a4a-da65-30c1b1d257ba"
      },
      "execution_count": 51,
      "outputs": [
        {
          "output_type": "stream",
          "name": "stdout",
          "text": [
            "MUSFI311\n"
          ]
        }
      ]
    },
    {
      "cell_type": "markdown",
      "source": [
        "# Area"
      ],
      "metadata": {
        "id": "eRUgIuAtc2JJ"
      }
    },
    {
      "cell_type": "code",
      "source": [
        "length = 5\n",
        "width = 6\n",
        "area = length * width\n",
        "\n",
        "print(f\"The area is {area}\")"
      ],
      "metadata": {
        "colab": {
          "base_uri": "https://localhost:8080/"
        },
        "id": "GUu4Mwb_Y-2Z",
        "outputId": "621e1b39-bead-4049-d1b4-a02ec0ba6e10"
      },
      "execution_count": 87,
      "outputs": [
        {
          "output_type": "stream",
          "name": "stdout",
          "text": [
            "The area is 30\n"
          ]
        }
      ]
    },
    {
      "cell_type": "markdown",
      "source": [
        "# Shopping cart program"
      ],
      "metadata": {
        "id": "B91q6nImci0z"
      }
    },
    {
      "cell_type": "code",
      "source": [
        "cart = {}\n",
        "\n",
        "#price * quantity\n",
        "cart[\"Apple\"] = 1.5 * 3\n",
        "cart[\"Banana\"] = 0.75 * 5\n",
        "\n",
        "totalsum = cart[\"Apple\"] + cart[\"Banana\"]\n",
        "\n",
        "print(f\"The total sum of apples in cart is ${cart['Apple']}\")\n",
        "print(f\"The total sum of bananas in cart is ${cart['Banana']}\")\n",
        "print(f\"Total sum of all the fruits is ${totalsum}\")"
      ],
      "metadata": {
        "colab": {
          "base_uri": "https://localhost:8080/"
        },
        "id": "edGw55iQZB17",
        "outputId": "8eed12c2-49b8-4a5c-c150-bf0fb71cdb35"
      },
      "execution_count": 75,
      "outputs": [
        {
          "output_type": "stream",
          "name": "stdout",
          "text": [
            "The total sum of apples in cart is $4.5\n",
            "The total sum of bananas in cart is $3.75\n",
            "Total sum of all the fruits is $8.25\n"
          ]
        }
      ]
    },
    {
      "cell_type": "markdown",
      "source": [
        "# Indexing"
      ],
      "metadata": {
        "id": "qseof_99cfZq"
      }
    },
    {
      "cell_type": "code",
      "source": [
        "credit_card_number = \"1234-5678-9012-3456\"\n",
        "print(credit_card_number[0])\n",
        "print(credit_card_number[5:9])\n",
        "print(credit_card_number[:4])\n",
        "print(credit_card_number[1:9:2]) #step size\n",
        "print(credit_card_number[1:-9])\n",
        "print(credit_card_number[:-1])\n",
        "print(credit_card_number[::-1])"
      ],
      "metadata": {
        "colab": {
          "base_uri": "https://localhost:8080/"
        },
        "id": "I4SiVXPIZFJ0",
        "outputId": "a6415e4e-a39b-4af6-cc36-fb1a714eeb54"
      },
      "execution_count": 90,
      "outputs": [
        {
          "output_type": "stream",
          "name": "stdout",
          "text": [
            "1\n",
            "5678\n",
            "1234\n",
            "2457\n",
            "234-5678-\n",
            "1234-5678-9012-345\n",
            "6543-2109-8765-4321\n"
          ]
        }
      ]
    },
    {
      "cell_type": "code",
      "source": [
        "CCN = input(\"Please enter your CCN: \")\n"
      ],
      "metadata": {
        "colab": {
          "base_uri": "https://localhost:8080/"
        },
        "id": "p42o7hfJZ-9A",
        "outputId": "e5410f02-0a4e-4dbc-af5e-ac822318def7"
      },
      "execution_count": 91,
      "outputs": [
        {
          "name": "stdout",
          "output_type": "stream",
          "text": [
            "Please enter your CCN: 1234-5678-9012-3456\n"
          ]
        }
      ]
    },
    {
      "cell_type": "markdown",
      "source": [
        "# Printing Credit Cart numbers in encryted form using both positive and negative indexing"
      ],
      "metadata": {
        "id": "z9xudKqafSuj"
      }
    },
    {
      "cell_type": "code",
      "source": [
        "encrypted = CCN[15:19] #positive indexing\n",
        "encrypted2 = CCN[-4:] #negative indexing\n",
        "print(f\"Your Credit Card is : ****-****-****-{encrypted}\")\n",
        "print(f\"Your Credit Card is : ****-****-****-{encrypted2}\")"
      ],
      "metadata": {
        "colab": {
          "base_uri": "https://localhost:8080/"
        },
        "id": "NZrRGFQ1dTqM",
        "outputId": "d12c88a4-da0e-42b4-ecd3-b014c8667f01"
      },
      "execution_count": 113,
      "outputs": [
        {
          "output_type": "stream",
          "name": "stdout",
          "text": [
            "Your Credit Card is : ****-****-****-3456\n",
            "Your Credit Card is : ****-****-****-3456\n"
          ]
        }
      ]
    },
    {
      "cell_type": "code",
      "source": [
        "CCN = input(\"Please enter your CCN: \")\n",
        "encrypted = \"\"\n",
        "\n",
        "for i in range(len(CCN)):\n",
        "    if i < 15:\n",
        "        if CCN[i] != '-':\n",
        "            encrypted += '*'\n",
        "        else:\n",
        "            encrypted += '-'\n",
        "    else:\n",
        "        encrypted += CCN[i]\n",
        "\n",
        "print(f\"Your Debit Card is: {encrypted}\")"
      ],
      "metadata": {
        "colab": {
          "base_uri": "https://localhost:8080/"
        },
        "id": "rPUeD5yldwjk",
        "outputId": "4858f753-3217-4603-85b2-db3a54d8dd43"
      },
      "execution_count": 119,
      "outputs": [
        {
          "output_type": "stream",
          "name": "stdout",
          "text": [
            "Please enter your CCN: 1234-5678-9012-3456-0987\n",
            "Your Debit Card is: ****-****-****-3456-0987\n"
          ]
        }
      ]
    },
    {
      "cell_type": "code",
      "source": [],
      "metadata": {
        "id": "XlN7yET7eRsR"
      },
      "execution_count": 118,
      "outputs": []
    },
    {
      "cell_type": "code",
      "source": [],
      "metadata": {
        "id": "cP4P3Qr2gRWh"
      },
      "execution_count": 118,
      "outputs": []
    }
  ]
}