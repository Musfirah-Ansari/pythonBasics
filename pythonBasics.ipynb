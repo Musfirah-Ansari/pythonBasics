{
  "nbformat": 4,
  "nbformat_minor": 0,
  "metadata": {
    "colab": {
      "provenance": [],
      "authorship_tag": "ABX9TyMx2meFYbAGkPgwGz7o5Zwc",
      "include_colab_link": true
    },
    "kernelspec": {
      "name": "python3",
      "display_name": "Python 3"
    },
    "language_info": {
      "name": "python"
    }
  },
  "cells": [
    {
      "cell_type": "markdown",
      "metadata": {
        "id": "view-in-github",
        "colab_type": "text"
      },
      "source": [
        "<a href=\"https://colab.research.google.com/github/Musfirah-Ansari/pythonBasics/blob/main/pythonBasics.ipynb\" target=\"_parent\"><img src=\"https://colab.research.google.com/assets/colab-badge.svg\" alt=\"Open In Colab\"/></a>"
      ]
    },
    {
      "cell_type": "code",
      "execution_count": 1,
      "metadata": {
        "colab": {
          "base_uri": "https://localhost:8080/"
        },
        "id": "5ThopGGnRUxl",
        "outputId": "715b65a4-abcf-40dd-8172-322f33bc2699"
      },
      "outputs": [
        {
          "output_type": "stream",
          "name": "stdout",
          "text": [
            "Machine Learning\n"
          ]
        }
      ],
      "source": [
        "print(\"Machine Learning\")"
      ]
    },
    {
      "cell_type": "code",
      "source": [
        "x = 5\n",
        "if x > 10:\n",
        "  print(\"x is greater than 10\")"
      ],
      "metadata": {
        "id": "i1VIyhO4R7AN"
      },
      "execution_count": 3,
      "outputs": []
    },
    {
      "cell_type": "code",
      "source": [
        "name = \"musfirah\""
      ],
      "metadata": {
        "id": "GlcOmx78Sjfm"
      },
      "execution_count": 6,
      "outputs": []
    },
    {
      "cell_type": "code",
      "source": [
        "print(type(name))"
      ],
      "metadata": {
        "colab": {
          "base_uri": "https://localhost:8080/"
        },
        "id": "OwHflbAkTboV",
        "outputId": "ad1d3fe0-8fb1-4627-f542-45abeadd0026"
      },
      "execution_count": 20,
      "outputs": [
        {
          "output_type": "stream",
          "name": "stdout",
          "text": [
            "<class 'str'>\n"
          ]
        }
      ]
    },
    {
      "cell_type": "code",
      "source": [
        "age = 22"
      ],
      "metadata": {
        "id": "8_RIrAUgTe5T"
      },
      "execution_count": 8,
      "outputs": []
    },
    {
      "cell_type": "code",
      "source": [
        "work = \"Software developer\""
      ],
      "metadata": {
        "id": "eeGE2MtGTtlU"
      },
      "execution_count": 9,
      "outputs": []
    },
    {
      "cell_type": "code",
      "source": [
        "workplace = \"BankAlfalah\""
      ],
      "metadata": {
        "id": "jWvc5F6eT1VJ"
      },
      "execution_count": 10,
      "outputs": []
    },
    {
      "cell_type": "code",
      "source": [
        "salary = 999999.00"
      ],
      "metadata": {
        "id": "eRfYqqMST5SD"
      },
      "execution_count": 17,
      "outputs": []
    },
    {
      "cell_type": "markdown",
      "source": [
        "# f string"
      ],
      "metadata": {
        "id": "CRzD75uCfmRw"
      }
    },
    {
      "cell_type": "code",
      "source": [
        "print(f\"My name is {name}. I am {age} years old. I work as a {work} at {workplace}. I earn {salary} per month\")\n"
      ],
      "metadata": {
        "colab": {
          "base_uri": "https://localhost:8080/"
        },
        "id": "EEl322oTUBJF",
        "outputId": "c72fd0ee-0845-414a-ca52-376b46891971"
      },
      "execution_count": 19,
      "outputs": [
        {
          "output_type": "stream",
          "name": "stdout",
          "text": [
            "My name is musfirah. I am 22 years old. I work as a Software developer at BankAlfalah. I earn 99999.0 per month\n"
          ]
        }
      ]
    },
    {
      "cell_type": "markdown",
      "source": [
        "# Types"
      ],
      "metadata": {
        "id": "wGRd6NpQftO4"
      }
    },
    {
      "cell_type": "code",
      "source": [
        "print(type(age))"
      ],
      "metadata": {
        "colab": {
          "base_uri": "https://localhost:8080/"
        },
        "id": "9g7famsbUZ9t",
        "outputId": "a85ba647-b79d-4541-f81a-92303572bebd"
      },
      "execution_count": 21,
      "outputs": [
        {
          "output_type": "stream",
          "name": "stdout",
          "text": [
            "<class 'int'>\n"
          ]
        }
      ]
    },
    {
      "cell_type": "code",
      "source": [
        "print(type(work))"
      ],
      "metadata": {
        "colab": {
          "base_uri": "https://localhost:8080/"
        },
        "id": "t-fq4u1BUdSk",
        "outputId": "1ccdb584-abef-4427-b398-32a7616d70f3"
      },
      "execution_count": 22,
      "outputs": [
        {
          "output_type": "stream",
          "name": "stdout",
          "text": [
            "<class 'str'>\n"
          ]
        }
      ]
    },
    {
      "cell_type": "code",
      "source": [
        "print(type(workplace))"
      ],
      "metadata": {
        "colab": {
          "base_uri": "https://localhost:8080/"
        },
        "id": "PZ2t2DsrU-JZ",
        "outputId": "f6831840-ecf3-4e51-d726-0d0891a92532"
      },
      "execution_count": 23,
      "outputs": [
        {
          "output_type": "stream",
          "name": "stdout",
          "text": [
            "<class 'str'>\n"
          ]
        }
      ]
    },
    {
      "cell_type": "code",
      "source": [
        "print(type(salary))"
      ],
      "metadata": {
        "colab": {
          "base_uri": "https://localhost:8080/"
        },
        "id": "nszVCbYkVB8W",
        "outputId": "69eb8c0a-f56c-404e-a1fc-b965cbfc451d"
      },
      "execution_count": 24,
      "outputs": [
        {
          "output_type": "stream",
          "name": "stdout",
          "text": [
            "<class 'float'>\n"
          ]
        }
      ]
    },
    {
      "cell_type": "code",
      "source": [
        "price = 35.67\n",
        "year = 2024\n",
        "is_admin = True"
      ],
      "metadata": {
        "id": "kg33RHXAVFnu"
      },
      "execution_count": 26,
      "outputs": []
    },
    {
      "cell_type": "code",
      "source": [
        "print(type(price))\n",
        "print(type(year))\n",
        "print(type(is_admin))"
      ],
      "metadata": {
        "colab": {
          "base_uri": "https://localhost:8080/"
        },
        "id": "-hdBDbDSVKPs",
        "outputId": "65c0133e-4610-4266-fc57-d6bb7d743472"
      },
      "execution_count": 27,
      "outputs": [
        {
          "output_type": "stream",
          "name": "stdout",
          "text": [
            "<class 'float'>\n",
            "<class 'int'>\n",
            "<class 'bool'>\n"
          ]
        }
      ]
    },
    {
      "cell_type": "code",
      "source": [
        "year = float(year)"
      ],
      "metadata": {
        "id": "yMWh1Kp1VT3B"
      },
      "execution_count": 28,
      "outputs": []
    },
    {
      "cell_type": "code",
      "source": [
        "print(type(year))"
      ],
      "metadata": {
        "colab": {
          "base_uri": "https://localhost:8080/"
        },
        "id": "W9FFXljbVXJ8",
        "outputId": "bfd8a7a2-d8a5-4858-87da-bcc956f1de4f"
      },
      "execution_count": 29,
      "outputs": [
        {
          "output_type": "stream",
          "name": "stdout",
          "text": [
            "<class 'float'>\n"
          ]
        }
      ]
    },
    {
      "cell_type": "markdown",
      "source": [
        "# Taking User input"
      ],
      "metadata": {
        "id": "QoC66GEufdGo"
      }
    },
    {
      "cell_type": "code",
      "source": [
        "my_name = input(\"Please enter your name here. \")"
      ],
      "metadata": {
        "colab": {
          "base_uri": "https://localhost:8080/"
        },
        "id": "KjYGWXbkVZMD",
        "outputId": "fc097957-5229-486d-8132-9ffe8f790dd0"
      },
      "execution_count": 41,
      "outputs": [
        {
          "name": "stdout",
          "output_type": "stream",
          "text": [
            "Please enter your name here. MUSFI\n"
          ]
        }
      ]
    },
    {
      "cell_type": "code",
      "source": [
        "print(my_name)"
      ],
      "metadata": {
        "colab": {
          "base_uri": "https://localhost:8080/"
        },
        "id": "59YvhQ6rVsbZ",
        "outputId": "b69a360c-84ed-4b08-ba72-1a077e5ff05f"
      },
      "execution_count": 42,
      "outputs": [
        {
          "output_type": "stream",
          "name": "stdout",
          "text": [
            "MUSFI\n"
          ]
        }
      ]
    },
    {
      "cell_type": "code",
      "source": [
        "my_age = input(\"Please enter your age \")"
      ],
      "metadata": {
        "colab": {
          "base_uri": "https://localhost:8080/"
        },
        "id": "8fckNJtdVwGk",
        "outputId": "3590d442-b125-4446-9fab-ee30179b97b1"
      },
      "execution_count": 49,
      "outputs": [
        {
          "name": "stdout",
          "output_type": "stream",
          "text": [
            "Please enter your age 311\n"
          ]
        }
      ]
    },
    {
      "cell_type": "code",
      "source": [
        "#Total = my_name + my_age\n",
        "Total = my_name + str(my_age)"
      ],
      "metadata": {
        "id": "c4DSvc0YWTX7"
      },
      "execution_count": 50,
      "outputs": []
    },
    {
      "cell_type": "code",
      "source": [
        "print(Total)"
      ],
      "metadata": {
        "colab": {
          "base_uri": "https://localhost:8080/"
        },
        "id": "XwKlv1TvWmlP",
        "outputId": "8207993e-4bf0-4a4a-da65-30c1b1d257ba"
      },
      "execution_count": 51,
      "outputs": [
        {
          "output_type": "stream",
          "name": "stdout",
          "text": [
            "MUSFI311\n"
          ]
        }
      ]
    },
    {
      "cell_type": "markdown",
      "source": [
        "# Area"
      ],
      "metadata": {
        "id": "eRUgIuAtc2JJ"
      }
    },
    {
      "cell_type": "code",
      "source": [
        "length = 5\n",
        "width = 6\n",
        "area = length * width\n",
        "\n",
        "print(f\"The area is {area}\")"
      ],
      "metadata": {
        "colab": {
          "base_uri": "https://localhost:8080/"
        },
        "id": "GUu4Mwb_Y-2Z",
        "outputId": "621e1b39-bead-4049-d1b4-a02ec0ba6e10"
      },
      "execution_count": 87,
      "outputs": [
        {
          "output_type": "stream",
          "name": "stdout",
          "text": [
            "The area is 30\n"
          ]
        }
      ]
    },
    {
      "cell_type": "markdown",
      "source": [
        "# Shopping cart program"
      ],
      "metadata": {
        "id": "B91q6nImci0z"
      }
    },
    {
      "cell_type": "code",
      "source": [
        "cart = {}\n",
        "\n",
        "#price * quantity\n",
        "cart[\"Apple\"] = 1.5 * 3\n",
        "cart[\"Banana\"] = 0.75 * 5\n",
        "\n",
        "totalsum = cart[\"Apple\"] + cart[\"Banana\"]\n",
        "\n",
        "print(f\"The total sum of apples in cart is ${cart['Apple']}\")\n",
        "print(f\"The total sum of bananas in cart is ${cart['Banana']}\")\n",
        "print(f\"Total sum of all the fruits is ${totalsum}\")"
      ],
      "metadata": {
        "colab": {
          "base_uri": "https://localhost:8080/"
        },
        "id": "edGw55iQZB17",
        "outputId": "26e3b2b2-6ffe-465a-e5e4-042f868ae099"
      },
      "execution_count": 174,
      "outputs": [
        {
          "output_type": "stream",
          "name": "stdout",
          "text": [
            "The total sum of apples in cart is $4.5\n",
            "The total sum of bananas in cart is $3.75\n",
            "Total sum of all the fruits is $8.25\n"
          ]
        }
      ]
    },
    {
      "cell_type": "markdown",
      "source": [
        "# Indexing"
      ],
      "metadata": {
        "id": "qseof_99cfZq"
      }
    },
    {
      "cell_type": "code",
      "source": [
        "credit_card_number = \"1234-5678-9012-3456\"\n",
        "print(credit_card_number[0])\n",
        "print(credit_card_number[5:9])\n",
        "print(credit_card_number[:4])\n",
        "print(credit_card_number[1:9:2]) #step size\n",
        "print(credit_card_number[1:-9])\n",
        "print(credit_card_number[:-1])\n",
        "print(credit_card_number[::-1])"
      ],
      "metadata": {
        "colab": {
          "base_uri": "https://localhost:8080/"
        },
        "id": "I4SiVXPIZFJ0",
        "outputId": "a6415e4e-a39b-4af6-cc36-fb1a714eeb54"
      },
      "execution_count": 90,
      "outputs": [
        {
          "output_type": "stream",
          "name": "stdout",
          "text": [
            "1\n",
            "5678\n",
            "1234\n",
            "2457\n",
            "234-5678-\n",
            "1234-5678-9012-345\n",
            "6543-2109-8765-4321\n"
          ]
        }
      ]
    },
    {
      "cell_type": "code",
      "source": [
        "CCN = input(\"Please enter your CCN: \")\n"
      ],
      "metadata": {
        "colab": {
          "base_uri": "https://localhost:8080/"
        },
        "id": "p42o7hfJZ-9A",
        "outputId": "e5410f02-0a4e-4dbc-af5e-ac822318def7"
      },
      "execution_count": 91,
      "outputs": [
        {
          "name": "stdout",
          "output_type": "stream",
          "text": [
            "Please enter your CCN: 1234-5678-9012-3456\n"
          ]
        }
      ]
    },
    {
      "cell_type": "markdown",
      "source": [
        "# Printing Credit Cart numbers in encryted form using both positive and negative indexing"
      ],
      "metadata": {
        "id": "z9xudKqafSuj"
      }
    },
    {
      "cell_type": "code",
      "source": [
        "encrypted = CCN[15:19] #positive indexing\n",
        "encrypted2 = CCN[-4:] #negative indexing\n",
        "print(f\"Your Credit Card is : ****-****-****-{encrypted}\")\n",
        "print(f\"Your Credit Card is : ****-****-****-{encrypted2}\")"
      ],
      "metadata": {
        "colab": {
          "base_uri": "https://localhost:8080/"
        },
        "id": "NZrRGFQ1dTqM",
        "outputId": "d12c88a4-da0e-42b4-ecd3-b014c8667f01"
      },
      "execution_count": 113,
      "outputs": [
        {
          "output_type": "stream",
          "name": "stdout",
          "text": [
            "Your Credit Card is : ****-****-****-3456\n",
            "Your Credit Card is : ****-****-****-3456\n"
          ]
        }
      ]
    },
    {
      "cell_type": "code",
      "source": [
        "CCN = input(\"Please enter your CCN: \")\n",
        "encrypted = \"\"\n",
        "\n",
        "for i in range(len(CCN)):\n",
        "    if i < 15:\n",
        "        if CCN[i] != '-':\n",
        "            encrypted += '*'\n",
        "        else:\n",
        "            encrypted += '-'\n",
        "    else:\n",
        "        encrypted += CCN[i]\n",
        "\n",
        "print(f\"Your Debit Card is: {encrypted}\")"
      ],
      "metadata": {
        "colab": {
          "base_uri": "https://localhost:8080/"
        },
        "id": "rPUeD5yldwjk",
        "outputId": "e6a420e8-3c22-4cb6-ce84-a62f495af4a0"
      },
      "execution_count": 120,
      "outputs": [
        {
          "output_type": "stream",
          "name": "stdout",
          "text": [
            "Please enter your CCN: 1234-5678-9012-3456\n",
            "Your Debit Card is: ****-****-****-3456\n"
          ]
        }
      ]
    },
    {
      "cell_type": "markdown",
      "source": [
        "# String Methods\n"
      ],
      "metadata": {
        "id": "Fk4gFFALjeEI"
      }
    },
    {
      "cell_type": "code",
      "source": [
        "x = \"my name is musfirah-fayyaz ansari. My age is 22.\""
      ],
      "metadata": {
        "id": "XlN7yET7eRsR"
      },
      "execution_count": 135,
      "outputs": []
    },
    {
      "cell_type": "code",
      "source": [
        "x.find(\"s\")"
      ],
      "metadata": {
        "colab": {
          "base_uri": "https://localhost:8080/"
        },
        "id": "cP4P3Qr2gRWh",
        "outputId": "74d4efa4-4900-4135-bcfa-55e7e025a779"
      },
      "execution_count": 136,
      "outputs": [
        {
          "output_type": "execute_result",
          "data": {
            "text/plain": [
              "9"
            ]
          },
          "metadata": {},
          "execution_count": 136
        }
      ]
    },
    {
      "cell_type": "code",
      "source": [
        "x.rfind(\"i\")"
      ],
      "metadata": {
        "colab": {
          "base_uri": "https://localhost:8080/"
        },
        "id": "s7DFJbhhjqBQ",
        "outputId": "bb99fe71-8b4f-4ac8-a474-2f956deafe3d"
      },
      "execution_count": 137,
      "outputs": [
        {
          "output_type": "execute_result",
          "data": {
            "text/plain": [
              "42"
            ]
          },
          "metadata": {},
          "execution_count": 137
        }
      ]
    },
    {
      "cell_type": "code",
      "source": [
        "x.capitalize()"
      ],
      "metadata": {
        "colab": {
          "base_uri": "https://localhost:8080/",
          "height": 35
        },
        "id": "TouRjEbIjtM8",
        "outputId": "37ac2706-1b44-4ebd-f5f6-ee3a460403fc"
      },
      "execution_count": 138,
      "outputs": [
        {
          "output_type": "execute_result",
          "data": {
            "text/plain": [
              "'My name is musfirah-fayyaz ansari. my age is 22.'"
            ],
            "application/vnd.google.colaboratory.intrinsic+json": {
              "type": "string"
            }
          },
          "metadata": {},
          "execution_count": 138
        }
      ]
    },
    {
      "cell_type": "code",
      "source": [
        "x.title()"
      ],
      "metadata": {
        "colab": {
          "base_uri": "https://localhost:8080/",
          "height": 35
        },
        "id": "QSYFq-cfjwBl",
        "outputId": "9b5ce76f-5e30-48be-f9a6-44ebac1d0325"
      },
      "execution_count": 139,
      "outputs": [
        {
          "output_type": "execute_result",
          "data": {
            "text/plain": [
              "'My Name Is Musfirah-Fayyaz Ansari. My Age Is 22.'"
            ],
            "application/vnd.google.colaboratory.intrinsic+json": {
              "type": "string"
            }
          },
          "metadata": {},
          "execution_count": 139
        }
      ]
    },
    {
      "cell_type": "code",
      "source": [
        "x.upper()"
      ],
      "metadata": {
        "colab": {
          "base_uri": "https://localhost:8080/",
          "height": 35
        },
        "id": "ddQUKCrkj2HO",
        "outputId": "4311ed2c-9ea5-4c38-d6e9-b3c621339777"
      },
      "execution_count": 140,
      "outputs": [
        {
          "output_type": "execute_result",
          "data": {
            "text/plain": [
              "'MY NAME IS MUSFIRAH-FAYYAZ ANSARI. MY AGE IS 22.'"
            ],
            "application/vnd.google.colaboratory.intrinsic+json": {
              "type": "string"
            }
          },
          "metadata": {},
          "execution_count": 140
        }
      ]
    },
    {
      "cell_type": "code",
      "source": [
        "x.lower()"
      ],
      "metadata": {
        "colab": {
          "base_uri": "https://localhost:8080/",
          "height": 35
        },
        "id": "s2a797BQj5QY",
        "outputId": "0e336871-2b5d-4f12-ee37-6b184f6a3369"
      },
      "execution_count": 141,
      "outputs": [
        {
          "output_type": "execute_result",
          "data": {
            "text/plain": [
              "'my name is musfirah-fayyaz ansari. my age is 22.'"
            ],
            "application/vnd.google.colaboratory.intrinsic+json": {
              "type": "string"
            }
          },
          "metadata": {},
          "execution_count": 141
        }
      ]
    },
    {
      "cell_type": "code",
      "source": [
        "x.isdigit()"
      ],
      "metadata": {
        "colab": {
          "base_uri": "https://localhost:8080/"
        },
        "id": "Cr5IJ830j6bt",
        "outputId": "478db544-0789-40e3-ce91-d08bcbc4da98"
      },
      "execution_count": 142,
      "outputs": [
        {
          "output_type": "execute_result",
          "data": {
            "text/plain": [
              "False"
            ]
          },
          "metadata": {},
          "execution_count": 142
        }
      ]
    },
    {
      "cell_type": "code",
      "source": [
        "x.isalpha()"
      ],
      "metadata": {
        "colab": {
          "base_uri": "https://localhost:8080/"
        },
        "id": "cpaBn1haj9WV",
        "outputId": "bbe5e38e-04e3-4220-d20d-86ed99107792"
      },
      "execution_count": 143,
      "outputs": [
        {
          "output_type": "execute_result",
          "data": {
            "text/plain": [
              "False"
            ]
          },
          "metadata": {},
          "execution_count": 143
        }
      ]
    },
    {
      "cell_type": "code",
      "source": [
        "x.count(\"-\")"
      ],
      "metadata": {
        "colab": {
          "base_uri": "https://localhost:8080/"
        },
        "id": "rEbptPQKkBUF",
        "outputId": "4772e5a2-fcfe-4058-d069-86b23c94544a"
      },
      "execution_count": 144,
      "outputs": [
        {
          "output_type": "execute_result",
          "data": {
            "text/plain": [
              "1"
            ]
          },
          "metadata": {},
          "execution_count": 144
        }
      ]
    },
    {
      "cell_type": "code",
      "source": [
        "x.replace(\"-\", \"--\")"
      ],
      "metadata": {
        "colab": {
          "base_uri": "https://localhost:8080/",
          "height": 35
        },
        "id": "Y34iGzjikH43",
        "outputId": "98cb4e88-c2fc-4e64-b6ab-24201fe4f226"
      },
      "execution_count": 145,
      "outputs": [
        {
          "output_type": "execute_result",
          "data": {
            "text/plain": [
              "'my name is musfirah--fayyaz ansari. My age is 22.'"
            ],
            "application/vnd.google.colaboratory.intrinsic+json": {
              "type": "string"
            }
          },
          "metadata": {},
          "execution_count": 145
        }
      ]
    },
    {
      "cell_type": "code",
      "source": [
        "x.split()"
      ],
      "metadata": {
        "colab": {
          "base_uri": "https://localhost:8080/"
        },
        "id": "-7XcveN3kVOS",
        "outputId": "f8620cd6-4259-47e5-fb7d-c5f4e210a88b"
      },
      "execution_count": 146,
      "outputs": [
        {
          "output_type": "execute_result",
          "data": {
            "text/plain": [
              "['my', 'name', 'is', 'musfirah-fayyaz', 'ansari.', 'My', 'age', 'is', '22.']"
            ]
          },
          "metadata": {},
          "execution_count": 146
        }
      ]
    },
    {
      "cell_type": "code",
      "source": [
        "len(x)"
      ],
      "metadata": {
        "colab": {
          "base_uri": "https://localhost:8080/"
        },
        "id": "s1zP_bCNkXDV",
        "outputId": "05abdc16-d3a7-47cf-a587-7f7a1f3b53cc"
      },
      "execution_count": 151,
      "outputs": [
        {
          "output_type": "execute_result",
          "data": {
            "text/plain": [
              "48"
            ]
          },
          "metadata": {},
          "execution_count": 151
        }
      ]
    },
    {
      "cell_type": "code",
      "source": [
        "email = \"misbah.haque@xloopdigital.com\"\n",
        "\n",
        "path = \"C:/Users/Misbah/Documents/file.txt\""
      ],
      "metadata": {
        "id": "kzCKfY6fko66"
      },
      "execution_count": 158,
      "outputs": []
    },
    {
      "cell_type": "code",
      "source": [
        "parts = path.split(\"/\")\n",
        "print(parts)"
      ],
      "metadata": {
        "colab": {
          "base_uri": "https://localhost:8080/"
        },
        "id": "jbcUdwTfkrYm",
        "outputId": "8f9ca761-2287-422d-c4b5-f5cffe22e766"
      },
      "execution_count": 159,
      "outputs": [
        {
          "output_type": "stream",
          "name": "stdout",
          "text": [
            "['C:', 'Users', 'Misbah', 'Documents', 'file.txt']\n"
          ]
        }
      ]
    },
    {
      "cell_type": "code",
      "source": [
        "last_str = email.rfind(\"@\") #reverse find\n",
        "print(last_str)\n",
        "# last str will find the index of @\n",
        "#we will use that index to slice out the domain\n",
        "domain = email[last_str+1:]\n",
        "print(domain)"
      ],
      "metadata": {
        "colab": {
          "base_uri": "https://localhost:8080/"
        },
        "id": "9p28LsX6mF1-",
        "outputId": "03365a1b-1a64-4f8f-f14a-796c4c6a9d30"
      },
      "execution_count": 160,
      "outputs": [
        {
          "output_type": "stream",
          "name": "stdout",
          "text": [
            "12\n",
            "xloopdigital.com\n"
          ]
        }
      ]
    },
    {
      "cell_type": "markdown",
      "source": [
        "# Validate user input exercise"
      ],
      "metadata": {
        "id": "gYnj_OgpoH-Y"
      }
    },
    {
      "cell_type": "code",
      "source": [
        "uname = input(\"Please enter your name: \")\n",
        "\n",
        "if len(uname) > 12:\n",
        "  print(\"Username is no more than 12 characters.\") # uname is no mre than 12 char\n",
        "elif not uname.find(\" \")==-1:\n",
        "  print(\"Username cannot contain spaces.\") # uname must not contain spaces\n",
        "#elif not uname.isdigit():\n",
        "elif any(char.isdigit() for char in uname):\n",
        "  print(\"Username cannot contain digits.\") # uname must not contain digits\n",
        "else:\n",
        "  print(\"Username is valid.\")"
      ],
      "metadata": {
        "colab": {
          "base_uri": "https://localhost:8080/"
        },
        "id": "0SljOKqFmxQ8",
        "outputId": "823c252a-57c2-446c-d1a4-cf78f6f5cb50"
      },
      "execution_count": 170,
      "outputs": [
        {
          "output_type": "stream",
          "name": "stdout",
          "text": [
            "Please enter your name: musfi.rah\n",
            "Username is valid.\n"
          ]
        }
      ]
    },
    {
      "cell_type": "markdown",
      "source": [
        "# Format Specifiers"
      ],
      "metadata": {
        "id": "tXAVppzats18"
      }
    },
    {
      "cell_type": "code",
      "source": [
        "price1 = 2.44\n",
        "price2 = -44\n",
        "price3 = 354.5\n",
        "\n",
        "print(f\"price 1 is ${price1:.1f}\")\n",
        "print(f\"price 1 is ${price:>10}\")\n",
        "print(f\"price 1 is ${price:^10}\")"
      ],
      "metadata": {
        "colab": {
          "base_uri": "https://localhost:8080/"
        },
        "id": "_auzSJZXp_vz",
        "outputId": "7a991365-4da9-4882-d4f7-fac52fc371e0"
      },
      "execution_count": 173,
      "outputs": [
        {
          "output_type": "stream",
          "name": "stdout",
          "text": [
            "price 1 is $2.4\n",
            "price 1 is $     35.67\n",
            "price 1 is $  35.67   \n"
          ]
        }
      ]
    },
    {
      "cell_type": "markdown",
      "source": [
        "# Exercise"
      ],
      "metadata": {
        "id": "TMfrqWgGuqTr"
      }
    },
    {
      "cell_type": "code",
      "source": [
        "# Create a product price table displaying the price, tax (8%), and total price for three products, formatted with proper alignment and precision using f-strings.\n",
        "\n",
        "prod1 = \"Macbook\"\n",
        "price1 = 1300000.0\n",
        "prod2 = \"Iphone\"\n",
        "price2 = 4647000\n",
        "tax_rate = 0.08\n",
        "tax1 = price1*tax_rate\n",
        "tax2 = price2*tax_rate\n",
        "\n",
        "print(\"=\"*11 + \"Product Price Table\" + \"=\"*11)\n",
        "\n",
        "print(f\"{'Product:':<15} {'Price:':>10} {'Tax (8%):' :>15}\")\n",
        "print(f\"{prod1:<15} {price1:>10.2f} {tax1:>15.2f}\")\n",
        "print(f\"{prod2:<15} {price2:>10.2f} {tax2:>15.2f}\")\n",
        "\n",
        "print(\"=\"*42)"
      ],
      "metadata": {
        "colab": {
          "base_uri": "https://localhost:8080/"
        },
        "id": "tp2gv_Vnt-ph",
        "outputId": "95167dd2-1051-486f-a24f-4aefd4293061"
      },
      "execution_count": 194,
      "outputs": [
        {
          "output_type": "stream",
          "name": "stdout",
          "text": [
            "===========Product Price Table===========\n",
            "Product:            Price:       Tax (8%):\n",
            "Macbook         1300000.00       104000.00\n",
            "Iphone          4647000.00       371760.00\n",
            "==========================================\n"
          ]
        }
      ]
    },
    {
      "cell_type": "markdown",
      "source": [
        "# Nested Loops"
      ],
      "metadata": {
        "id": "PWmofer165jX"
      }
    },
    {
      "cell_type": "code",
      "source": [
        "row = 8\n",
        "col = 8\n",
        "symbol = ' Musfirah '\n",
        "\n",
        "for x in range(row):\n",
        "  for y in range(col):\n",
        "    print(symbol, end=\"\")\n",
        "  print()"
      ],
      "metadata": {
        "colab": {
          "base_uri": "https://localhost:8080/"
        },
        "id": "rkMQfXVRvdOA",
        "outputId": "e51b9ae2-790a-44ea-a058-41abfff1fb91"
      },
      "execution_count": 201,
      "outputs": [
        {
          "output_type": "stream",
          "name": "stdout",
          "text": [
            " Musfirah  Musfirah  Musfirah  Musfirah  Musfirah  Musfirah  Musfirah  Musfirah \n",
            " Musfirah  Musfirah  Musfirah  Musfirah  Musfirah  Musfirah  Musfirah  Musfirah \n",
            " Musfirah  Musfirah  Musfirah  Musfirah  Musfirah  Musfirah  Musfirah  Musfirah \n",
            " Musfirah  Musfirah  Musfirah  Musfirah  Musfirah  Musfirah  Musfirah  Musfirah \n",
            " Musfirah  Musfirah  Musfirah  Musfirah  Musfirah  Musfirah  Musfirah  Musfirah \n",
            " Musfirah  Musfirah  Musfirah  Musfirah  Musfirah  Musfirah  Musfirah  Musfirah \n",
            " Musfirah  Musfirah  Musfirah  Musfirah  Musfirah  Musfirah  Musfirah  Musfirah \n",
            " Musfirah  Musfirah  Musfirah  Musfirah  Musfirah  Musfirah  Musfirah  Musfirah \n"
          ]
        }
      ]
    },
    {
      "cell_type": "markdown",
      "source": [
        "# Match case"
      ],
      "metadata": {
        "id": "Sk1O3OAc7l9e"
      }
    },
    {
      "cell_type": "code",
      "source": [
        "day = int(input(\"Please enter day number here: \"))\n",
        "match day:\n",
        "  case 1:\n",
        "    print(\"Monday\")\n",
        "  case 2:\n",
        "    print(\"Tuesday\")\n",
        "  case 3:\n",
        "    print(\"Wednesday\")\n",
        "  case 4:\n",
        "    print(\"Thursday\")\n",
        "  case 5:\n",
        "    print(\"Friday\")\n",
        "  case 6:\n",
        "    print(\"Saturday\")\n",
        "  case 7:\n",
        "    print(\"Sunday\")\n",
        "  case _:\n",
        "    print(\"Invalid day number\")"
      ],
      "metadata": {
        "colab": {
          "base_uri": "https://localhost:8080/"
        },
        "id": "nVVCH7vjxPMJ",
        "outputId": "0aebdb7d-46e0-461f-fb66-dad804b9afad"
      },
      "execution_count": 208,
      "outputs": [
        {
          "output_type": "stream",
          "name": "stdout",
          "text": [
            "Please enter day number here: 6\n",
            "Saturday\n"
          ]
        }
      ]
    },
    {
      "cell_type": "markdown",
      "source": [
        "# List Comprehensions"
      ],
      "metadata": {
        "id": "VHKDxWiU9HrB"
      }
    },
    {
      "cell_type": "code",
      "source": [
        "double = [x*2 for x in range(10) if x>2 ]\n",
        "print(double)"
      ],
      "metadata": {
        "colab": {
          "base_uri": "https://localhost:8080/"
        },
        "id": "8trBKgzt7tSO",
        "outputId": "b735ea19-69d2-429a-80fd-b00cc9d6feac"
      },
      "execution_count": 213,
      "outputs": [
        {
          "output_type": "stream",
          "name": "stdout",
          "text": [
            "[6, 8, 10, 12, 14, 16, 18]\n"
          ]
        }
      ]
    },
    {
      "cell_type": "code",
      "source": [
        "type(double)"
      ],
      "metadata": {
        "colab": {
          "base_uri": "https://localhost:8080/"
        },
        "id": "i2Jq1CPN9MGS",
        "outputId": "00cb587f-739b-4235-ffb4-701e6bf7d08e"
      },
      "execution_count": 212,
      "outputs": [
        {
          "output_type": "execute_result",
          "data": {
            "text/plain": [
              "list"
            ]
          },
          "metadata": {},
          "execution_count": 212
        }
      ]
    },
    {
      "cell_type": "markdown",
      "source": [
        "# Exercises"
      ],
      "metadata": {
        "id": "2xWEFbYH9mps"
      }
    },
    {
      "cell_type": "code",
      "source": [
        "salaries = [50000, 60000, 70000]\n",
        "\n",
        "new_salaries = [x*1.1 for x in salaries]\n",
        "\n",
        "print(new_salaries)"
      ],
      "metadata": {
        "colab": {
          "base_uri": "https://localhost:8080/"
        },
        "id": "441jXayM9Vui",
        "outputId": "fd5ac2ca-d1ff-4780-9964-46fbb63e339f"
      },
      "execution_count": 216,
      "outputs": [
        {
          "output_type": "stream",
          "name": "stdout",
          "text": [
            "[55000.00000000001, 66000.0, 77000.0]\n"
          ]
        }
      ]
    },
    {
      "cell_type": "markdown",
      "source": [
        "# Functions & Advanced Python Concepts"
      ],
      "metadata": {
        "id": "GE0IRMXv-JcM"
      }
    },
    {
      "cell_type": "code",
      "source": [
        "def sum(a, b):\n",
        "  sum = a+b\n",
        "  return sum\n",
        "\n",
        "sum(4, 4)"
      ],
      "metadata": {
        "colab": {
          "base_uri": "https://localhost:8080/"
        },
        "id": "BhVXOXTN9zDg",
        "outputId": "1e078e20-48f9-42fa-b168-4fa4d61b1046"
      },
      "execution_count": 217,
      "outputs": [
        {
          "output_type": "execute_result",
          "data": {
            "text/plain": [
              "8"
            ]
          },
          "metadata": {},
          "execution_count": 217
        }
      ]
    },
    {
      "cell_type": "code",
      "source": [
        "def multiply(a, b):\n",
        "  multiply = a*b\n",
        "  return multiply\n",
        "\n",
        "multiply(4, 4)"
      ],
      "metadata": {
        "colab": {
          "base_uri": "https://localhost:8080/"
        },
        "id": "Nk3HdVhl-ndm",
        "outputId": "a19168d8-9cbf-4139-e117-1f411885cc65"
      },
      "execution_count": 219,
      "outputs": [
        {
          "output_type": "execute_result",
          "data": {
            "text/plain": [
              "16"
            ]
          },
          "metadata": {},
          "execution_count": 219
        }
      ]
    },
    {
      "cell_type": "code",
      "source": [
        "def divide(a, b):\n",
        "  divide = a/b\n",
        "  return divide\n",
        "\n",
        "divide(16, 4)"
      ],
      "metadata": {
        "colab": {
          "base_uri": "https://localhost:8080/"
        },
        "id": "Fbua5FI1-vFf",
        "outputId": "81eac3da-fbf7-427d-a04a-3b685eef9ab3"
      },
      "execution_count": 223,
      "outputs": [
        {
          "output_type": "execute_result",
          "data": {
            "text/plain": [
              "4.0"
            ]
          },
          "metadata": {},
          "execution_count": 223
        }
      ]
    },
    {
      "cell_type": "code",
      "source": [
        "def subtract(a, b):\n",
        "  subtract = a-b\n",
        "  return subtract\n",
        "\n",
        "subtract(4, 3)"
      ],
      "metadata": {
        "colab": {
          "base_uri": "https://localhost:8080/"
        },
        "id": "Ip0B0NbY-3eq",
        "outputId": "49df5ec6-afca-4c43-dbbb-42a93656126c"
      },
      "execution_count": 222,
      "outputs": [
        {
          "output_type": "execute_result",
          "data": {
            "text/plain": [
              "1"
            ]
          },
          "metadata": {},
          "execution_count": 222
        }
      ]
    },
    {
      "cell_type": "markdown",
      "source": [
        "# Dictionary Assignment"
      ],
      "metadata": {
        "id": "ocKZKhvM_o9r"
      }
    },
    {
      "cell_type": "code",
      "source": [
        "# Create a simple bank system using a dictionary to store customer names & their balances. The program should allow users to enter a customer's name & display their balances. If the customer does not exist, inform the user that the customer is not found."
      ],
      "metadata": {
        "id": "4Y2xwUSb-8K1"
      },
      "execution_count": 224,
      "outputs": []
    },
    {
      "cell_type": "code",
      "source": [],
      "metadata": {
        "id": "fAFr7aCk_ez6"
      },
      "execution_count": null,
      "outputs": []
    }
  ]
}