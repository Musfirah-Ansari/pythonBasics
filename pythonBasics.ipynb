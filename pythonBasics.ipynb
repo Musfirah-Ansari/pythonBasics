{
  "nbformat": 4,
  "nbformat_minor": 0,
  "metadata": {
    "colab": {
      "provenance": [],
      "authorship_tag": "ABX9TyPe58aCiMn4ddgWgaHYvZ6a",
      "include_colab_link": true
    },
    "kernelspec": {
      "name": "python3",
      "display_name": "Python 3"
    },
    "language_info": {
      "name": "python"
    }
  },
  "cells": [
    {
      "cell_type": "markdown",
      "metadata": {
        "id": "view-in-github",
        "colab_type": "text"
      },
      "source": [
        "<a href=\"https://colab.research.google.com/github/Musfirah-Ansari/pythonBasics/blob/main/pythonBasics.ipynb\" target=\"_parent\"><img src=\"https://colab.research.google.com/assets/colab-badge.svg\" alt=\"Open In Colab\"/></a>"
      ]
    },
    {
      "cell_type": "code",
      "execution_count": 1,
      "metadata": {
        "colab": {
          "base_uri": "https://localhost:8080/"
        },
        "id": "5ThopGGnRUxl",
        "outputId": "715b65a4-abcf-40dd-8172-322f33bc2699"
      },
      "outputs": [
        {
          "output_type": "stream",
          "name": "stdout",
          "text": [
            "Machine Learning\n"
          ]
        }
      ],
      "source": [
        "print(\"Machine Learning\")"
      ]
    },
    {
      "cell_type": "code",
      "source": [
        "x = 5\n",
        "if x > 10:\n",
        "  print(\"x is greater than 10\")"
      ],
      "metadata": {
        "id": "i1VIyhO4R7AN"
      },
      "execution_count": 3,
      "outputs": []
    },
    {
      "cell_type": "code",
      "source": [
        "name = \"musfirah\""
      ],
      "metadata": {
        "id": "GlcOmx78Sjfm"
      },
      "execution_count": 6,
      "outputs": []
    },
    {
      "cell_type": "code",
      "source": [
        "print(type(name))"
      ],
      "metadata": {
        "colab": {
          "base_uri": "https://localhost:8080/"
        },
        "id": "OwHflbAkTboV",
        "outputId": "ad1d3fe0-8fb1-4627-f542-45abeadd0026"
      },
      "execution_count": 20,
      "outputs": [
        {
          "output_type": "stream",
          "name": "stdout",
          "text": [
            "<class 'str'>\n"
          ]
        }
      ]
    },
    {
      "cell_type": "code",
      "source": [
        "age = 22"
      ],
      "metadata": {
        "id": "8_RIrAUgTe5T"
      },
      "execution_count": 8,
      "outputs": []
    },
    {
      "cell_type": "code",
      "source": [
        "work = \"Software developer\""
      ],
      "metadata": {
        "id": "eeGE2MtGTtlU"
      },
      "execution_count": 9,
      "outputs": []
    },
    {
      "cell_type": "code",
      "source": [
        "workplace = \"BankAlfalah\""
      ],
      "metadata": {
        "id": "jWvc5F6eT1VJ"
      },
      "execution_count": 10,
      "outputs": []
    },
    {
      "cell_type": "code",
      "source": [
        "salary = 999999.00"
      ],
      "metadata": {
        "id": "eRfYqqMST5SD"
      },
      "execution_count": 17,
      "outputs": []
    },
    {
      "cell_type": "markdown",
      "source": [
        "# f string"
      ],
      "metadata": {
        "id": "CRzD75uCfmRw"
      }
    },
    {
      "cell_type": "code",
      "source": [
        "print(f\"My name is {name}. I am {age} years old. I work as a {work} at {workplace}. I earn {salary} per month\")\n"
      ],
      "metadata": {
        "colab": {
          "base_uri": "https://localhost:8080/"
        },
        "id": "EEl322oTUBJF",
        "outputId": "c72fd0ee-0845-414a-ca52-376b46891971"
      },
      "execution_count": 19,
      "outputs": [
        {
          "output_type": "stream",
          "name": "stdout",
          "text": [
            "My name is musfirah. I am 22 years old. I work as a Software developer at BankAlfalah. I earn 99999.0 per month\n"
          ]
        }
      ]
    },
    {
      "cell_type": "markdown",
      "source": [
        "# Types"
      ],
      "metadata": {
        "id": "wGRd6NpQftO4"
      }
    },
    {
      "cell_type": "code",
      "source": [
        "print(type(age))"
      ],
      "metadata": {
        "colab": {
          "base_uri": "https://localhost:8080/"
        },
        "id": "9g7famsbUZ9t",
        "outputId": "a85ba647-b79d-4541-f81a-92303572bebd"
      },
      "execution_count": 21,
      "outputs": [
        {
          "output_type": "stream",
          "name": "stdout",
          "text": [
            "<class 'int'>\n"
          ]
        }
      ]
    },
    {
      "cell_type": "code",
      "source": [
        "print(type(work))"
      ],
      "metadata": {
        "colab": {
          "base_uri": "https://localhost:8080/"
        },
        "id": "t-fq4u1BUdSk",
        "outputId": "1ccdb584-abef-4427-b398-32a7616d70f3"
      },
      "execution_count": 22,
      "outputs": [
        {
          "output_type": "stream",
          "name": "stdout",
          "text": [
            "<class 'str'>\n"
          ]
        }
      ]
    },
    {
      "cell_type": "code",
      "source": [
        "print(type(workplace))"
      ],
      "metadata": {
        "colab": {
          "base_uri": "https://localhost:8080/"
        },
        "id": "PZ2t2DsrU-JZ",
        "outputId": "f6831840-ecf3-4e51-d726-0d0891a92532"
      },
      "execution_count": 23,
      "outputs": [
        {
          "output_type": "stream",
          "name": "stdout",
          "text": [
            "<class 'str'>\n"
          ]
        }
      ]
    },
    {
      "cell_type": "code",
      "source": [
        "print(type(salary))"
      ],
      "metadata": {
        "colab": {
          "base_uri": "https://localhost:8080/"
        },
        "id": "nszVCbYkVB8W",
        "outputId": "69eb8c0a-f56c-404e-a1fc-b965cbfc451d"
      },
      "execution_count": 24,
      "outputs": [
        {
          "output_type": "stream",
          "name": "stdout",
          "text": [
            "<class 'float'>\n"
          ]
        }
      ]
    },
    {
      "cell_type": "code",
      "source": [
        "price = 35.67\n",
        "year = 2024\n",
        "is_admin = True"
      ],
      "metadata": {
        "id": "kg33RHXAVFnu"
      },
      "execution_count": 26,
      "outputs": []
    },
    {
      "cell_type": "code",
      "source": [
        "print(type(price))\n",
        "print(type(year))\n",
        "print(type(is_admin))"
      ],
      "metadata": {
        "colab": {
          "base_uri": "https://localhost:8080/"
        },
        "id": "-hdBDbDSVKPs",
        "outputId": "65c0133e-4610-4266-fc57-d6bb7d743472"
      },
      "execution_count": 27,
      "outputs": [
        {
          "output_type": "stream",
          "name": "stdout",
          "text": [
            "<class 'float'>\n",
            "<class 'int'>\n",
            "<class 'bool'>\n"
          ]
        }
      ]
    },
    {
      "cell_type": "code",
      "source": [
        "year = float(year)"
      ],
      "metadata": {
        "id": "yMWh1Kp1VT3B"
      },
      "execution_count": 28,
      "outputs": []
    },
    {
      "cell_type": "code",
      "source": [
        "print(type(year))"
      ],
      "metadata": {
        "colab": {
          "base_uri": "https://localhost:8080/"
        },
        "id": "W9FFXljbVXJ8",
        "outputId": "bfd8a7a2-d8a5-4858-87da-bcc956f1de4f"
      },
      "execution_count": 29,
      "outputs": [
        {
          "output_type": "stream",
          "name": "stdout",
          "text": [
            "<class 'float'>\n"
          ]
        }
      ]
    },
    {
      "cell_type": "markdown",
      "source": [
        "# Taking User input"
      ],
      "metadata": {
        "id": "QoC66GEufdGo"
      }
    },
    {
      "cell_type": "code",
      "source": [
        "my_name = input(\"Please enter your name here. \")"
      ],
      "metadata": {
        "colab": {
          "base_uri": "https://localhost:8080/"
        },
        "id": "KjYGWXbkVZMD",
        "outputId": "fc097957-5229-486d-8132-9ffe8f790dd0"
      },
      "execution_count": 41,
      "outputs": [
        {
          "name": "stdout",
          "output_type": "stream",
          "text": [
            "Please enter your name here. MUSFI\n"
          ]
        }
      ]
    },
    {
      "cell_type": "code",
      "source": [
        "print(my_name)"
      ],
      "metadata": {
        "colab": {
          "base_uri": "https://localhost:8080/"
        },
        "id": "59YvhQ6rVsbZ",
        "outputId": "b69a360c-84ed-4b08-ba72-1a077e5ff05f"
      },
      "execution_count": 42,
      "outputs": [
        {
          "output_type": "stream",
          "name": "stdout",
          "text": [
            "MUSFI\n"
          ]
        }
      ]
    },
    {
      "cell_type": "code",
      "source": [
        "my_age = input(\"Please enter your age \")"
      ],
      "metadata": {
        "colab": {
          "base_uri": "https://localhost:8080/"
        },
        "id": "8fckNJtdVwGk",
        "outputId": "3590d442-b125-4446-9fab-ee30179b97b1"
      },
      "execution_count": 49,
      "outputs": [
        {
          "name": "stdout",
          "output_type": "stream",
          "text": [
            "Please enter your age 311\n"
          ]
        }
      ]
    },
    {
      "cell_type": "code",
      "source": [
        "#Total = my_name + my_age\n",
        "Total = my_name + str(my_age)"
      ],
      "metadata": {
        "id": "c4DSvc0YWTX7"
      },
      "execution_count": 50,
      "outputs": []
    },
    {
      "cell_type": "code",
      "source": [
        "print(Total)"
      ],
      "metadata": {
        "colab": {
          "base_uri": "https://localhost:8080/"
        },
        "id": "XwKlv1TvWmlP",
        "outputId": "8207993e-4bf0-4a4a-da65-30c1b1d257ba"
      },
      "execution_count": 51,
      "outputs": [
        {
          "output_type": "stream",
          "name": "stdout",
          "text": [
            "MUSFI311\n"
          ]
        }
      ]
    },
    {
      "cell_type": "markdown",
      "source": [
        "# Area"
      ],
      "metadata": {
        "id": "eRUgIuAtc2JJ"
      }
    },
    {
      "cell_type": "code",
      "source": [
        "length = 5\n",
        "width = 6\n",
        "area = length * width\n",
        "\n",
        "print(f\"The area is {area}\")"
      ],
      "metadata": {
        "colab": {
          "base_uri": "https://localhost:8080/"
        },
        "id": "GUu4Mwb_Y-2Z",
        "outputId": "621e1b39-bead-4049-d1b4-a02ec0ba6e10"
      },
      "execution_count": 87,
      "outputs": [
        {
          "output_type": "stream",
          "name": "stdout",
          "text": [
            "The area is 30\n"
          ]
        }
      ]
    },
    {
      "cell_type": "markdown",
      "source": [
        "# Shopping cart program"
      ],
      "metadata": {
        "id": "B91q6nImci0z"
      }
    },
    {
      "cell_type": "code",
      "source": [
        "cart = {}\n",
        "\n",
        "#price * quantity\n",
        "cart[\"Apple\"] = 1.5 * 3\n",
        "cart[\"Banana\"] = 0.75 * 5\n",
        "\n",
        "totalsum = cart[\"Apple\"] + cart[\"Banana\"]\n",
        "\n",
        "print(f\"The total sum of apples in cart is ${cart['Apple']}\")\n",
        "print(f\"The total sum of bananas in cart is ${cart['Banana']}\")\n",
        "print(f\"Total sum of all the fruits is ${totalsum}\")"
      ],
      "metadata": {
        "colab": {
          "base_uri": "https://localhost:8080/"
        },
        "id": "edGw55iQZB17",
        "outputId": "26e3b2b2-6ffe-465a-e5e4-042f868ae099"
      },
      "execution_count": 174,
      "outputs": [
        {
          "output_type": "stream",
          "name": "stdout",
          "text": [
            "The total sum of apples in cart is $4.5\n",
            "The total sum of bananas in cart is $3.75\n",
            "Total sum of all the fruits is $8.25\n"
          ]
        }
      ]
    },
    {
      "cell_type": "markdown",
      "source": [
        "# Indexing"
      ],
      "metadata": {
        "id": "qseof_99cfZq"
      }
    },
    {
      "cell_type": "code",
      "source": [
        "credit_card_number = \"1234-5678-9012-3456\"\n",
        "print(credit_card_number[0])\n",
        "print(credit_card_number[5:9])\n",
        "print(credit_card_number[:4])\n",
        "print(credit_card_number[1:9:2]) #step size\n",
        "print(credit_card_number[1:-9])\n",
        "print(credit_card_number[:-1])\n",
        "print(credit_card_number[::-1])"
      ],
      "metadata": {
        "colab": {
          "base_uri": "https://localhost:8080/"
        },
        "id": "I4SiVXPIZFJ0",
        "outputId": "a6415e4e-a39b-4af6-cc36-fb1a714eeb54"
      },
      "execution_count": 90,
      "outputs": [
        {
          "output_type": "stream",
          "name": "stdout",
          "text": [
            "1\n",
            "5678\n",
            "1234\n",
            "2457\n",
            "234-5678-\n",
            "1234-5678-9012-345\n",
            "6543-2109-8765-4321\n"
          ]
        }
      ]
    },
    {
      "cell_type": "code",
      "source": [
        "CCN = input(\"Please enter your CCN: \")\n"
      ],
      "metadata": {
        "colab": {
          "base_uri": "https://localhost:8080/"
        },
        "id": "p42o7hfJZ-9A",
        "outputId": "e5410f02-0a4e-4dbc-af5e-ac822318def7"
      },
      "execution_count": 91,
      "outputs": [
        {
          "name": "stdout",
          "output_type": "stream",
          "text": [
            "Please enter your CCN: 1234-5678-9012-3456\n"
          ]
        }
      ]
    },
    {
      "cell_type": "markdown",
      "source": [
        "# Printing Credit Cart numbers in encryted form using both positive and negative indexing"
      ],
      "metadata": {
        "id": "z9xudKqafSuj"
      }
    },
    {
      "cell_type": "code",
      "source": [
        "encrypted = CCN[15:19] #positive indexing\n",
        "encrypted2 = CCN[-4:] #negative indexing\n",
        "print(f\"Your Credit Card is : ****-****-****-{encrypted}\")\n",
        "print(f\"Your Credit Card is : ****-****-****-{encrypted2}\")"
      ],
      "metadata": {
        "colab": {
          "base_uri": "https://localhost:8080/"
        },
        "id": "NZrRGFQ1dTqM",
        "outputId": "d12c88a4-da0e-42b4-ecd3-b014c8667f01"
      },
      "execution_count": 113,
      "outputs": [
        {
          "output_type": "stream",
          "name": "stdout",
          "text": [
            "Your Credit Card is : ****-****-****-3456\n",
            "Your Credit Card is : ****-****-****-3456\n"
          ]
        }
      ]
    },
    {
      "cell_type": "code",
      "source": [
        "CCN = input(\"Please enter your CCN: \")\n",
        "encrypted = \"\"\n",
        "\n",
        "for i in range(len(CCN)):\n",
        "    if i < 15:\n",
        "        if CCN[i] != '-':\n",
        "            encrypted += '*'\n",
        "        else:\n",
        "            encrypted += '-'\n",
        "    else:\n",
        "        encrypted += CCN[i]\n",
        "\n",
        "print(f\"Your Debit Card is: {encrypted}\")"
      ],
      "metadata": {
        "colab": {
          "base_uri": "https://localhost:8080/"
        },
        "id": "rPUeD5yldwjk",
        "outputId": "e6a420e8-3c22-4cb6-ce84-a62f495af4a0"
      },
      "execution_count": 120,
      "outputs": [
        {
          "output_type": "stream",
          "name": "stdout",
          "text": [
            "Please enter your CCN: 1234-5678-9012-3456\n",
            "Your Debit Card is: ****-****-****-3456\n"
          ]
        }
      ]
    },
    {
      "cell_type": "markdown",
      "source": [
        "# String Methods\n"
      ],
      "metadata": {
        "id": "Fk4gFFALjeEI"
      }
    },
    {
      "cell_type": "code",
      "source": [
        "x = \"my name is musfirah-fayyaz ansari. My age is 22.\""
      ],
      "metadata": {
        "id": "XlN7yET7eRsR"
      },
      "execution_count": 135,
      "outputs": []
    },
    {
      "cell_type": "code",
      "source": [
        "x.find(\"s\")"
      ],
      "metadata": {
        "colab": {
          "base_uri": "https://localhost:8080/"
        },
        "id": "cP4P3Qr2gRWh",
        "outputId": "74d4efa4-4900-4135-bcfa-55e7e025a779"
      },
      "execution_count": 136,
      "outputs": [
        {
          "output_type": "execute_result",
          "data": {
            "text/plain": [
              "9"
            ]
          },
          "metadata": {},
          "execution_count": 136
        }
      ]
    },
    {
      "cell_type": "code",
      "source": [
        "x.rfind(\"i\")"
      ],
      "metadata": {
        "colab": {
          "base_uri": "https://localhost:8080/"
        },
        "id": "s7DFJbhhjqBQ",
        "outputId": "bb99fe71-8b4f-4ac8-a474-2f956deafe3d"
      },
      "execution_count": 137,
      "outputs": [
        {
          "output_type": "execute_result",
          "data": {
            "text/plain": [
              "42"
            ]
          },
          "metadata": {},
          "execution_count": 137
        }
      ]
    },
    {
      "cell_type": "code",
      "source": [
        "x.capitalize()"
      ],
      "metadata": {
        "colab": {
          "base_uri": "https://localhost:8080/",
          "height": 35
        },
        "id": "TouRjEbIjtM8",
        "outputId": "37ac2706-1b44-4ebd-f5f6-ee3a460403fc"
      },
      "execution_count": 138,
      "outputs": [
        {
          "output_type": "execute_result",
          "data": {
            "text/plain": [
              "'My name is musfirah-fayyaz ansari. my age is 22.'"
            ],
            "application/vnd.google.colaboratory.intrinsic+json": {
              "type": "string"
            }
          },
          "metadata": {},
          "execution_count": 138
        }
      ]
    },
    {
      "cell_type": "code",
      "source": [
        "x.title()"
      ],
      "metadata": {
        "colab": {
          "base_uri": "https://localhost:8080/",
          "height": 35
        },
        "id": "QSYFq-cfjwBl",
        "outputId": "9b5ce76f-5e30-48be-f9a6-44ebac1d0325"
      },
      "execution_count": 139,
      "outputs": [
        {
          "output_type": "execute_result",
          "data": {
            "text/plain": [
              "'My Name Is Musfirah-Fayyaz Ansari. My Age Is 22.'"
            ],
            "application/vnd.google.colaboratory.intrinsic+json": {
              "type": "string"
            }
          },
          "metadata": {},
          "execution_count": 139
        }
      ]
    },
    {
      "cell_type": "code",
      "source": [
        "x.upper()"
      ],
      "metadata": {
        "colab": {
          "base_uri": "https://localhost:8080/",
          "height": 35
        },
        "id": "ddQUKCrkj2HO",
        "outputId": "4311ed2c-9ea5-4c38-d6e9-b3c621339777"
      },
      "execution_count": 140,
      "outputs": [
        {
          "output_type": "execute_result",
          "data": {
            "text/plain": [
              "'MY NAME IS MUSFIRAH-FAYYAZ ANSARI. MY AGE IS 22.'"
            ],
            "application/vnd.google.colaboratory.intrinsic+json": {
              "type": "string"
            }
          },
          "metadata": {},
          "execution_count": 140
        }
      ]
    },
    {
      "cell_type": "code",
      "source": [
        "x.lower()"
      ],
      "metadata": {
        "colab": {
          "base_uri": "https://localhost:8080/",
          "height": 35
        },
        "id": "s2a797BQj5QY",
        "outputId": "0e336871-2b5d-4f12-ee37-6b184f6a3369"
      },
      "execution_count": 141,
      "outputs": [
        {
          "output_type": "execute_result",
          "data": {
            "text/plain": [
              "'my name is musfirah-fayyaz ansari. my age is 22.'"
            ],
            "application/vnd.google.colaboratory.intrinsic+json": {
              "type": "string"
            }
          },
          "metadata": {},
          "execution_count": 141
        }
      ]
    },
    {
      "cell_type": "code",
      "source": [
        "x.isdigit()"
      ],
      "metadata": {
        "colab": {
          "base_uri": "https://localhost:8080/"
        },
        "id": "Cr5IJ830j6bt",
        "outputId": "478db544-0789-40e3-ce91-d08bcbc4da98"
      },
      "execution_count": 142,
      "outputs": [
        {
          "output_type": "execute_result",
          "data": {
            "text/plain": [
              "False"
            ]
          },
          "metadata": {},
          "execution_count": 142
        }
      ]
    },
    {
      "cell_type": "code",
      "source": [
        "x.isalpha()"
      ],
      "metadata": {
        "colab": {
          "base_uri": "https://localhost:8080/"
        },
        "id": "cpaBn1haj9WV",
        "outputId": "bbe5e38e-04e3-4220-d20d-86ed99107792"
      },
      "execution_count": 143,
      "outputs": [
        {
          "output_type": "execute_result",
          "data": {
            "text/plain": [
              "False"
            ]
          },
          "metadata": {},
          "execution_count": 143
        }
      ]
    },
    {
      "cell_type": "code",
      "source": [
        "x.count(\"-\")"
      ],
      "metadata": {
        "colab": {
          "base_uri": "https://localhost:8080/"
        },
        "id": "rEbptPQKkBUF",
        "outputId": "4772e5a2-fcfe-4058-d069-86b23c94544a"
      },
      "execution_count": 144,
      "outputs": [
        {
          "output_type": "execute_result",
          "data": {
            "text/plain": [
              "1"
            ]
          },
          "metadata": {},
          "execution_count": 144
        }
      ]
    },
    {
      "cell_type": "code",
      "source": [
        "x.replace(\"-\", \"--\")"
      ],
      "metadata": {
        "colab": {
          "base_uri": "https://localhost:8080/",
          "height": 35
        },
        "id": "Y34iGzjikH43",
        "outputId": "98cb4e88-c2fc-4e64-b6ab-24201fe4f226"
      },
      "execution_count": 145,
      "outputs": [
        {
          "output_type": "execute_result",
          "data": {
            "text/plain": [
              "'my name is musfirah--fayyaz ansari. My age is 22.'"
            ],
            "application/vnd.google.colaboratory.intrinsic+json": {
              "type": "string"
            }
          },
          "metadata": {},
          "execution_count": 145
        }
      ]
    },
    {
      "cell_type": "code",
      "source": [
        "x.split()"
      ],
      "metadata": {
        "colab": {
          "base_uri": "https://localhost:8080/"
        },
        "id": "-7XcveN3kVOS",
        "outputId": "f8620cd6-4259-47e5-fb7d-c5f4e210a88b"
      },
      "execution_count": 146,
      "outputs": [
        {
          "output_type": "execute_result",
          "data": {
            "text/plain": [
              "['my', 'name', 'is', 'musfirah-fayyaz', 'ansari.', 'My', 'age', 'is', '22.']"
            ]
          },
          "metadata": {},
          "execution_count": 146
        }
      ]
    },
    {
      "cell_type": "code",
      "source": [
        "len(x)"
      ],
      "metadata": {
        "colab": {
          "base_uri": "https://localhost:8080/"
        },
        "id": "s1zP_bCNkXDV",
        "outputId": "05abdc16-d3a7-47cf-a587-7f7a1f3b53cc"
      },
      "execution_count": 151,
      "outputs": [
        {
          "output_type": "execute_result",
          "data": {
            "text/plain": [
              "48"
            ]
          },
          "metadata": {},
          "execution_count": 151
        }
      ]
    },
    {
      "cell_type": "code",
      "source": [
        "email = \"misbah.haque@xloopdigital.com\"\n",
        "\n",
        "path = \"C:/Users/Misbah/Documents/file.txt\""
      ],
      "metadata": {
        "id": "kzCKfY6fko66"
      },
      "execution_count": 158,
      "outputs": []
    },
    {
      "cell_type": "code",
      "source": [
        "parts = path.split(\"/\")\n",
        "print(parts)"
      ],
      "metadata": {
        "colab": {
          "base_uri": "https://localhost:8080/"
        },
        "id": "jbcUdwTfkrYm",
        "outputId": "8f9ca761-2287-422d-c4b5-f5cffe22e766"
      },
      "execution_count": 159,
      "outputs": [
        {
          "output_type": "stream",
          "name": "stdout",
          "text": [
            "['C:', 'Users', 'Misbah', 'Documents', 'file.txt']\n"
          ]
        }
      ]
    },
    {
      "cell_type": "code",
      "source": [
        "last_str = email.rfind(\"@\") #reverse find\n",
        "print(last_str)\n",
        "# last str will find the index of @\n",
        "#we will use that index to slice out the domain\n",
        "domain = email[last_str+1:]\n",
        "print(domain)"
      ],
      "metadata": {
        "colab": {
          "base_uri": "https://localhost:8080/"
        },
        "id": "9p28LsX6mF1-",
        "outputId": "03365a1b-1a64-4f8f-f14a-796c4c6a9d30"
      },
      "execution_count": 160,
      "outputs": [
        {
          "output_type": "stream",
          "name": "stdout",
          "text": [
            "12\n",
            "xloopdigital.com\n"
          ]
        }
      ]
    },
    {
      "cell_type": "markdown",
      "source": [
        "# Validate user input exercise"
      ],
      "metadata": {
        "id": "gYnj_OgpoH-Y"
      }
    },
    {
      "cell_type": "code",
      "source": [
        "uname = input(\"Please enter your name: \")\n",
        "\n",
        "if len(uname) > 12:\n",
        "  print(\"Username is no more than 12 characters.\") # uname is no mre than 12 char\n",
        "elif not uname.find(\" \")==-1:\n",
        "  print(\"Username cannot contain spaces.\") # uname must not contain spaces\n",
        "#elif not uname.isdigit():\n",
        "elif any(char.isdigit() for char in uname):\n",
        "  print(\"Username cannot contain digits.\") # uname must not contain digits\n",
        "else:\n",
        "  print(\"Username is valid.\")"
      ],
      "metadata": {
        "colab": {
          "base_uri": "https://localhost:8080/"
        },
        "id": "0SljOKqFmxQ8",
        "outputId": "823c252a-57c2-446c-d1a4-cf78f6f5cb50"
      },
      "execution_count": 170,
      "outputs": [
        {
          "output_type": "stream",
          "name": "stdout",
          "text": [
            "Please enter your name: musfi.rah\n",
            "Username is valid.\n"
          ]
        }
      ]
    },
    {
      "cell_type": "markdown",
      "source": [
        "# Format Specifiers"
      ],
      "metadata": {
        "id": "tXAVppzats18"
      }
    },
    {
      "cell_type": "code",
      "source": [
        "price1 = 2.44\n",
        "price2 = -44\n",
        "price3 = 354.5\n",
        "\n",
        "print(f\"price 1 is ${price1:.1f}\")\n",
        "print(f\"price 1 is ${price:>10}\")\n",
        "print(f\"price 1 is ${price:^10}\")"
      ],
      "metadata": {
        "colab": {
          "base_uri": "https://localhost:8080/"
        },
        "id": "_auzSJZXp_vz",
        "outputId": "7a991365-4da9-4882-d4f7-fac52fc371e0"
      },
      "execution_count": 173,
      "outputs": [
        {
          "output_type": "stream",
          "name": "stdout",
          "text": [
            "price 1 is $2.4\n",
            "price 1 is $     35.67\n",
            "price 1 is $  35.67   \n"
          ]
        }
      ]
    },
    {
      "cell_type": "markdown",
      "source": [
        "# Exercise"
      ],
      "metadata": {
        "id": "TMfrqWgGuqTr"
      }
    },
    {
      "cell_type": "code",
      "source": [
        "# Create a product price table displaying the price, tax (8%), and total price for three products, formatted with proper alignment and precision using f-strings.\n",
        "\n",
        "prod1 = \"Macbook\"\n",
        "price1 = 1300000.0\n",
        "prod2 = \"Iphone\"\n",
        "price2 = 4647000\n",
        "tax_rate = 0.08\n",
        "tax1 = price1*tax_rate\n",
        "tax2 = price2*tax_rate\n",
        "\n",
        "print(\"=\"*11 + \"Product Price Table\" + \"=\"*11)\n",
        "\n",
        "print(f\"{'Product:':<15} {'Price:':>10} {'Tax (8%):' :>15}\")\n",
        "print(f\"{prod1:<15} {price1:>10.2f} {tax1:>15.2f}\")\n",
        "print(f\"{prod2:<15} {price2:>10.2f} {tax2:>15.2f}\")\n",
        "\n",
        "print(\"=\"*42)"
      ],
      "metadata": {
        "colab": {
          "base_uri": "https://localhost:8080/"
        },
        "id": "tp2gv_Vnt-ph",
        "outputId": "95167dd2-1051-486f-a24f-4aefd4293061"
      },
      "execution_count": 194,
      "outputs": [
        {
          "output_type": "stream",
          "name": "stdout",
          "text": [
            "===========Product Price Table===========\n",
            "Product:            Price:       Tax (8%):\n",
            "Macbook         1300000.00       104000.00\n",
            "Iphone          4647000.00       371760.00\n",
            "==========================================\n"
          ]
        }
      ]
    },
    {
      "cell_type": "markdown",
      "source": [
        "# Nested Loops"
      ],
      "metadata": {
        "id": "PWmofer165jX"
      }
    },
    {
      "cell_type": "code",
      "source": [
        "row = 8\n",
        "col = 8\n",
        "symbol = ' Musfirah '\n",
        "\n",
        "for x in range(row):\n",
        "  for y in range(col):\n",
        "    print(symbol, end=\"\")\n",
        "  print()"
      ],
      "metadata": {
        "colab": {
          "base_uri": "https://localhost:8080/"
        },
        "id": "rkMQfXVRvdOA",
        "outputId": "e51b9ae2-790a-44ea-a058-41abfff1fb91"
      },
      "execution_count": 201,
      "outputs": [
        {
          "output_type": "stream",
          "name": "stdout",
          "text": [
            " Musfirah  Musfirah  Musfirah  Musfirah  Musfirah  Musfirah  Musfirah  Musfirah \n",
            " Musfirah  Musfirah  Musfirah  Musfirah  Musfirah  Musfirah  Musfirah  Musfirah \n",
            " Musfirah  Musfirah  Musfirah  Musfirah  Musfirah  Musfirah  Musfirah  Musfirah \n",
            " Musfirah  Musfirah  Musfirah  Musfirah  Musfirah  Musfirah  Musfirah  Musfirah \n",
            " Musfirah  Musfirah  Musfirah  Musfirah  Musfirah  Musfirah  Musfirah  Musfirah \n",
            " Musfirah  Musfirah  Musfirah  Musfirah  Musfirah  Musfirah  Musfirah  Musfirah \n",
            " Musfirah  Musfirah  Musfirah  Musfirah  Musfirah  Musfirah  Musfirah  Musfirah \n",
            " Musfirah  Musfirah  Musfirah  Musfirah  Musfirah  Musfirah  Musfirah  Musfirah \n"
          ]
        }
      ]
    },
    {
      "cell_type": "markdown",
      "source": [
        "# Match case"
      ],
      "metadata": {
        "id": "Sk1O3OAc7l9e"
      }
    },
    {
      "cell_type": "code",
      "source": [
        "day = int(input(\"Please enter day number here: \"))\n",
        "match day:\n",
        "  case 1:\n",
        "    print(\"Monday\")\n",
        "  case 2:\n",
        "    print(\"Tuesday\")\n",
        "  case 3:\n",
        "    print(\"Wednesday\")\n",
        "  case 4:\n",
        "    print(\"Thursday\")\n",
        "  case 5:\n",
        "    print(\"Friday\")\n",
        "  case 6:\n",
        "    print(\"Saturday\")\n",
        "  case 7:\n",
        "    print(\"Sunday\")\n",
        "  case _:\n",
        "    print(\"Invalid day number\")"
      ],
      "metadata": {
        "colab": {
          "base_uri": "https://localhost:8080/"
        },
        "id": "nVVCH7vjxPMJ",
        "outputId": "0aebdb7d-46e0-461f-fb66-dad804b9afad"
      },
      "execution_count": 208,
      "outputs": [
        {
          "output_type": "stream",
          "name": "stdout",
          "text": [
            "Please enter day number here: 6\n",
            "Saturday\n"
          ]
        }
      ]
    },
    {
      "cell_type": "markdown",
      "source": [
        "# List Comprehensions"
      ],
      "metadata": {
        "id": "VHKDxWiU9HrB"
      }
    },
    {
      "cell_type": "code",
      "source": [
        "double = [x*2 for x in range(10) if x>2 ]\n",
        "print(double)"
      ],
      "metadata": {
        "colab": {
          "base_uri": "https://localhost:8080/"
        },
        "id": "8trBKgzt7tSO",
        "outputId": "b735ea19-69d2-429a-80fd-b00cc9d6feac"
      },
      "execution_count": 213,
      "outputs": [
        {
          "output_type": "stream",
          "name": "stdout",
          "text": [
            "[6, 8, 10, 12, 14, 16, 18]\n"
          ]
        }
      ]
    },
    {
      "cell_type": "code",
      "source": [
        "type(double)"
      ],
      "metadata": {
        "colab": {
          "base_uri": "https://localhost:8080/"
        },
        "id": "i2Jq1CPN9MGS",
        "outputId": "00cb587f-739b-4235-ffb4-701e6bf7d08e"
      },
      "execution_count": 212,
      "outputs": [
        {
          "output_type": "execute_result",
          "data": {
            "text/plain": [
              "list"
            ]
          },
          "metadata": {},
          "execution_count": 212
        }
      ]
    },
    {
      "cell_type": "markdown",
      "source": [
        "# Exercises"
      ],
      "metadata": {
        "id": "2xWEFbYH9mps"
      }
    },
    {
      "cell_type": "code",
      "source": [
        "salaries = [50000, 60000, 70000]\n",
        "\n",
        "new_salaries = [x*1.1 for x in salaries]\n",
        "\n",
        "print(new_salaries)"
      ],
      "metadata": {
        "colab": {
          "base_uri": "https://localhost:8080/"
        },
        "id": "441jXayM9Vui",
        "outputId": "fd5ac2ca-d1ff-4780-9964-46fbb63e339f"
      },
      "execution_count": 216,
      "outputs": [
        {
          "output_type": "stream",
          "name": "stdout",
          "text": [
            "[55000.00000000001, 66000.0, 77000.0]\n"
          ]
        }
      ]
    },
    {
      "cell_type": "markdown",
      "source": [
        "# Functions & Advanced Python Concepts\n",
        "(To perform repetitive tasks)"
      ],
      "metadata": {
        "id": "GE0IRMXv-JcM"
      }
    },
    {
      "cell_type": "code",
      "source": [
        "def sum(a, b):\n",
        "  sum = a+b\n",
        "  return sum\n",
        "\n",
        "sum(4, 4)"
      ],
      "metadata": {
        "colab": {
          "base_uri": "https://localhost:8080/"
        },
        "id": "BhVXOXTN9zDg",
        "outputId": "1e078e20-48f9-42fa-b168-4fa4d61b1046"
      },
      "execution_count": 217,
      "outputs": [
        {
          "output_type": "execute_result",
          "data": {
            "text/plain": [
              "8"
            ]
          },
          "metadata": {},
          "execution_count": 217
        }
      ]
    },
    {
      "cell_type": "code",
      "source": [
        "def multiply(a, b):\n",
        "  multiply = a*b\n",
        "  return multiply\n",
        "\n",
        "multiply(4, 4)"
      ],
      "metadata": {
        "colab": {
          "base_uri": "https://localhost:8080/"
        },
        "id": "Nk3HdVhl-ndm",
        "outputId": "a19168d8-9cbf-4139-e117-1f411885cc65"
      },
      "execution_count": 219,
      "outputs": [
        {
          "output_type": "execute_result",
          "data": {
            "text/plain": [
              "16"
            ]
          },
          "metadata": {},
          "execution_count": 219
        }
      ]
    },
    {
      "cell_type": "code",
      "source": [
        "def divide(a, b):\n",
        "  if b == 0:\n",
        "    return \"Cannot divide by zero\"\n",
        "  else:\n",
        "    divide = a/b\n",
        "    return divide\n",
        "\n",
        "divide(16, 0)"
      ],
      "metadata": {
        "colab": {
          "base_uri": "https://localhost:8080/",
          "height": 35
        },
        "id": "Fbua5FI1-vFf",
        "outputId": "4e88cb94-b193-4e42-a1f7-c945f1238048"
      },
      "execution_count": 22,
      "outputs": [
        {
          "output_type": "execute_result",
          "data": {
            "text/plain": [
              "'Cannot divide by zero'"
            ],
            "application/vnd.google.colaboratory.intrinsic+json": {
              "type": "string"
            }
          },
          "metadata": {},
          "execution_count": 22
        }
      ]
    },
    {
      "cell_type": "code",
      "source": [
        "def subtract(a, b):\n",
        "  subtract = a-b\n",
        "  return subtract\n",
        "\n",
        "subtract(4, 3)"
      ],
      "metadata": {
        "colab": {
          "base_uri": "https://localhost:8080/"
        },
        "id": "Ip0B0NbY-3eq",
        "outputId": "9db85819-fd70-42b0-951b-83e37a220f41"
      },
      "execution_count": 2,
      "outputs": [
        {
          "output_type": "execute_result",
          "data": {
            "text/plain": [
              "1"
            ]
          },
          "metadata": {},
          "execution_count": 2
        }
      ]
    },
    {
      "cell_type": "code",
      "source": [
        "def happy_bday(name):\n",
        "\n",
        "  print(f\"Happy birthday to you, {name}\")\n",
        "  print(f\"Happy birthday to you, {name}\")\n",
        "  print(f\"Happy birthday dear {name}\")\n",
        "  print(f\"Happy birthday to you, {name}\")\n",
        "  print()\n",
        "\n",
        "happy_bday(\"Musfirah\")"
      ],
      "metadata": {
        "colab": {
          "base_uri": "https://localhost:8080/"
        },
        "id": "eSq34tkxcrHI",
        "outputId": "da94b82d-9924-4785-9c4e-4a12354a3ca6"
      },
      "execution_count": 6,
      "outputs": [
        {
          "output_type": "stream",
          "name": "stdout",
          "text": [
            "Happy birthday to you, Musfirah\n",
            "Happy birthday to you, Musfirah\n",
            "Happy birthday dear Musfirah\n",
            "Happy birthday to you, Musfirah\n",
            "\n"
          ]
        }
      ]
    },
    {
      "cell_type": "markdown",
      "source": [
        "# Concept of positional arguments"
      ],
      "metadata": {
        "id": "TP8qpk_Oef8d"
      }
    },
    {
      "cell_type": "code",
      "source": [
        "#Giving argument at wrong position getting wrong output\n",
        "\n",
        "def happy_bday(name, age):\n",
        "\n",
        "  print(f\"Happy birthday to you, {name}\")\n",
        "  print(f\"You are {age} years old\")\n",
        "  print()\n",
        "\n",
        "happy_bday(22, \"Musfirah\")"
      ],
      "metadata": {
        "colab": {
          "base_uri": "https://localhost:8080/"
        },
        "id": "210saKGAdbxe",
        "outputId": "02c9ca5d-77c4-4338-bbae-0858d816b2de"
      },
      "execution_count": 9,
      "outputs": [
        {
          "output_type": "stream",
          "name": "stdout",
          "text": [
            "Happy birthday to you, 22\n",
            "You are Musfirah years old\n",
            "\n"
          ]
        }
      ]
    },
    {
      "cell_type": "code",
      "source": [
        "#Giving correct arguments at correct positions\n",
        "\n",
        "def happy_bday(name, age):\n",
        "\n",
        "  print(f\"Happy birthday to you, {name}\")\n",
        "  print(f\"You are {age} years old\")\n",
        "  print()\n",
        "\n",
        "happy_bday(\"Musfirah\", 22)\n",
        "happy_bday(\"Musfirah Fayyaz\", 24)\n",
        "happy_bday(\"Musfirah Fayyaz Ahmed\", 26)\n",
        "happy_bday(\"Musfirah Fayyaz Ahmed Ansari\", 28)"
      ],
      "metadata": {
        "colab": {
          "base_uri": "https://localhost:8080/"
        },
        "id": "oixDZxmydql-",
        "outputId": "eb44486c-f79b-49f1-e6cc-447654fa6acd"
      },
      "execution_count": 15,
      "outputs": [
        {
          "output_type": "stream",
          "name": "stdout",
          "text": [
            "Happy birthday to you, Musfirah\n",
            "You are 22 years old\n",
            "\n",
            "Happy birthday to you, Musfirah Fayyaz\n",
            "You are 24 years old\n",
            "\n",
            "Happy birthday to you, Musfirah Fayyaz Ahmed\n",
            "You are 26 years old\n",
            "\n",
            "Happy birthday to you, Musfirah Fayyaz Ahmed Ansari\n",
            "You are 28 years old\n",
            "\n"
          ]
        }
      ]
    },
    {
      "cell_type": "code",
      "source": [
        "#Again giving argument at wrong position getting wrong output\n",
        "# Please take care of its order or position\n",
        "\n",
        "def happy_bday(name, age, mood):\n",
        "\n",
        "  print(f\"Happy birthday to you, {name}\")\n",
        "  print(f\"You are {age} years old\")\n",
        "  print(f\"You are feeling {mood} today\")\n",
        "\n",
        "  print()\n",
        "\n",
        "happy_bday(\"Excited\",\"Musfirah\", 22)"
      ],
      "metadata": {
        "colab": {
          "base_uri": "https://localhost:8080/"
        },
        "id": "OmaJxNKDd4fu",
        "outputId": "4dbaedc5-230c-49d5-847f-bc05f7ec6f2d"
      },
      "execution_count": 13,
      "outputs": [
        {
          "output_type": "stream",
          "name": "stdout",
          "text": [
            "Happy birthday to you, Excited\n",
            "You are Musfirah years old\n",
            "You are feeling 22 today\n",
            "\n"
          ]
        }
      ]
    },
    {
      "cell_type": "markdown",
      "source": [
        "# Invoice Functions"
      ],
      "metadata": {
        "id": "7SOY6mewftOG"
      }
    },
    {
      "cell_type": "code",
      "source": [
        "def inv_func(name, money):\n",
        "\n",
        "  print(f\"My name is, {name}\")\n",
        "  print(f\"I earned {money: .2f} this month\") #round off to 2\n",
        "  print()\n",
        "\n",
        "inv_func(\"Musfirah\", 99999.0555)"
      ],
      "metadata": {
        "colab": {
          "base_uri": "https://localhost:8080/"
        },
        "id": "h_yF4jnafyHf",
        "outputId": "23c045e3-8383-4acd-bf49-621fa85b1849"
      },
      "execution_count": 27,
      "outputs": [
        {
          "output_type": "stream",
          "name": "stdout",
          "text": [
            "My name is, Musfirah\n",
            "I earned  99999.06 this month\n",
            "\n"
          ]
        }
      ]
    },
    {
      "cell_type": "markdown",
      "source": [
        "# Default Arguments"
      ],
      "metadata": {
        "id": "OLtwo1EKhIPT"
      }
    },
    {
      "cell_type": "code",
      "source": [
        "def happy_bday(name, age=18):\n",
        "\n",
        "  print(f\"Happy birthday to you, {name}\")\n",
        "  print(f\"You are {age} years old\")\n",
        "  print()\n",
        "\n",
        "happy_bday(\"Musfirah\")"
      ],
      "metadata": {
        "colab": {
          "base_uri": "https://localhost:8080/"
        },
        "id": "L-RJbJk_hKeP",
        "outputId": "95e2679d-17c2-470a-96b2-3715d6917c45"
      },
      "execution_count": 24,
      "outputs": [
        {
          "output_type": "stream",
          "name": "stdout",
          "text": [
            "Happy birthday to you, Musfirah\n",
            "You are 18 years old\n",
            "\n"
          ]
        }
      ]
    },
    {
      "cell_type": "code",
      "source": [
        "def create_name(first, last):\n",
        "  first = first.capitalize()\n",
        "  last = last.capitalize()\n",
        "  return f\"{first} {last}\"\n",
        "\n",
        "create_name(\"musfirah\", \"fayyaz\")"
      ],
      "metadata": {
        "colab": {
          "base_uri": "https://localhost:8080/",
          "height": 35
        },
        "id": "cYtxpksyluvz",
        "outputId": "fe11b7d5-8caf-4c90-ffdd-dacee7c4a5ec"
      },
      "execution_count": 40,
      "outputs": [
        {
          "output_type": "execute_result",
          "data": {
            "text/plain": [
              "'Musfirah Fayyaz'"
            ],
            "application/vnd.google.colaboratory.intrinsic+json": {
              "type": "string"
            }
          },
          "metadata": {},
          "execution_count": 40
        }
      ]
    },
    {
      "cell_type": "code",
      "source": [
        "def net_price(price, discount = 0, tax = 0.05):\n",
        "  return price * (1 - discount) * (1 + tax)\n",
        "\n",
        "print(net_price(500, 0.1, 0))\n",
        "print(net_price(500, tax = 0.03))\n",
        "net_price(500, 0.1, 0)\n",
        "net_price(500, tax = 0.03)"
      ],
      "metadata": {
        "colab": {
          "base_uri": "https://localhost:8080/"
        },
        "id": "diyXzA9kkT7h",
        "outputId": "19d97414-e7f1-467b-9408-6ade70e667c5"
      },
      "execution_count": 39,
      "outputs": [
        {
          "output_type": "stream",
          "name": "stdout",
          "text": [
            "450.0\n",
            "515.0\n"
          ]
        },
        {
          "output_type": "execute_result",
          "data": {
            "text/plain": [
              "515.0"
            ]
          },
          "metadata": {},
          "execution_count": 39
        }
      ]
    },
    {
      "cell_type": "markdown",
      "source": [
        "# KEYWORD ARGUMENT\n",
        "\n"
      ],
      "metadata": {
        "id": "Xzb6UO63inuY"
      }
    },
    {
      "cell_type": "code",
      "source": [
        "def hey(greet, title, first, last):\n",
        "\n",
        "  print(f\"{greet} {title} {first} {last}\")\n",
        "\n",
        "hey(\"Hey!\", \"Ms.\", \"MUSFIRAH\", \"FAYYAZ\")\n",
        "hey(\"Hey!\", \"Ms.\", last = \"FAYYAZ\", first=\"MUSFIRAH\")"
      ],
      "metadata": {
        "colab": {
          "base_uri": "https://localhost:8080/"
        },
        "id": "pT-UctJdioQY",
        "outputId": "06ba5abc-05db-4a41-94bc-291552943ec8"
      },
      "execution_count": 31,
      "outputs": [
        {
          "output_type": "stream",
          "name": "stdout",
          "text": [
            "Hey! Ms. MUSFIRAH FAYYAZ\n",
            "Hey! Ms. MUSFIRAH FAYYAZ\n"
          ]
        }
      ]
    },
    {
      "cell_type": "code",
      "source": [
        "def get_phone(country, area, first, last):\n",
        "\n",
        "  print(f\"+{country}-{area}-{first}-{last}\")\n",
        "\n",
        "get_phone(country=92, area= 333, last = 564, first=5443)"
      ],
      "metadata": {
        "colab": {
          "base_uri": "https://localhost:8080/"
        },
        "id": "a8LmPvwSmsuh",
        "outputId": "cca8d102-3ad2-4cf5-d98e-b2856d4386a3"
      },
      "execution_count": 42,
      "outputs": [
        {
          "output_type": "stream",
          "name": "stdout",
          "text": [
            "+92-333-5443-564\n"
          ]
        }
      ]
    },
    {
      "cell_type": "markdown",
      "source": [
        "# Arbitray (args & kwargs)"
      ],
      "metadata": {
        "id": "1meC9qsUnT86"
      }
    },
    {
      "cell_type": "code",
      "source": [
        "#getting error while passing more unequal arguments as compare to the arguments defined in function\n",
        "#before using args\n",
        "\n",
        "def sum(a, b):\n",
        "  return a+b\n",
        "\n",
        "sum(4, 4, 4)"
      ],
      "metadata": {
        "colab": {
          "base_uri": "https://localhost:8080/",
          "height": 176
        },
        "id": "jF9-1j_gnTLr",
        "outputId": "a79f4259-ed2c-4471-f3db-3f5e4e3680c7"
      },
      "execution_count": 11,
      "outputs": [
        {
          "output_type": "error",
          "ename": "TypeError",
          "evalue": "sum() takes 2 positional arguments but 3 were given",
          "traceback": [
            "\u001b[0;31m---------------------------------------------------------------------------\u001b[0m",
            "\u001b[0;31mTypeError\u001b[0m                                 Traceback (most recent call last)",
            "\u001b[0;32m<ipython-input-11-e6cfb34b5b36>\u001b[0m in \u001b[0;36m<cell line: 7>\u001b[0;34m()\u001b[0m\n\u001b[1;32m      5\u001b[0m   \u001b[0;32mreturn\u001b[0m \u001b[0ma\u001b[0m\u001b[0;34m+\u001b[0m\u001b[0mb\u001b[0m\u001b[0;34m\u001b[0m\u001b[0;34m\u001b[0m\u001b[0m\n\u001b[1;32m      6\u001b[0m \u001b[0;34m\u001b[0m\u001b[0m\n\u001b[0;32m----> 7\u001b[0;31m \u001b[0msum\u001b[0m\u001b[0;34m(\u001b[0m\u001b[0;36m4\u001b[0m\u001b[0;34m,\u001b[0m \u001b[0;36m4\u001b[0m\u001b[0;34m,\u001b[0m \u001b[0;36m4\u001b[0m\u001b[0;34m)\u001b[0m\u001b[0;34m\u001b[0m\u001b[0;34m\u001b[0m\u001b[0m\n\u001b[0m",
            "\u001b[0;31mTypeError\u001b[0m: sum() takes 2 positional arguments but 3 were given"
          ]
        }
      ]
    },
    {
      "cell_type": "code",
      "source": [
        "def sum(*args):\n",
        "  print(type(args))\n",
        "  print()   #for gap\n",
        "  total = 0\n",
        "  for i in args:\n",
        "    total += i\n",
        "  return total\n",
        "\n",
        "sum(11, 22, 33, 44, 55, 66, 77, 88, 99)"
      ],
      "metadata": {
        "colab": {
          "base_uri": "https://localhost:8080/"
        },
        "id": "f5d1LMgmobnR",
        "outputId": "3d1cdcb7-d630-4369-f9b1-1dfa5dd6f728"
      },
      "execution_count": 21,
      "outputs": [
        {
          "output_type": "stream",
          "name": "stdout",
          "text": [
            "<class 'tuple'>\n",
            "\n"
          ]
        },
        {
          "output_type": "execute_result",
          "data": {
            "text/plain": [
              "495"
            ]
          },
          "metadata": {},
          "execution_count": 21
        }
      ]
    },
    {
      "cell_type": "code",
      "source": [
        "def display_name(*args):\n",
        "  for i in args:\n",
        "    print(i, end=\" \")\n",
        "\n",
        "display_name(\"Musfirah\", \"Fayyaz\", \"Ahmed\", \"Ansari\")"
      ],
      "metadata": {
        "colab": {
          "base_uri": "https://localhost:8080/"
        },
        "id": "TJ4ZAcr3qmTx",
        "outputId": "c4d4be3d-b9ba-4f1f-9dd2-36e9a2d68c9c"
      },
      "execution_count": 16,
      "outputs": [
        {
          "output_type": "stream",
          "name": "stdout",
          "text": [
            "Musfirah Fayyaz Ahmed Ansari "
          ]
        }
      ]
    },
    {
      "cell_type": "code",
      "source": [
        "def print_address(**kwargs):\n",
        "  print(type(kwargs))\n",
        "  print()   #for gap\n",
        "  for key, value in kwargs.items():\n",
        "    print(f\"{key}: {value}\")\n",
        "\n",
        "print_address(street=\"123 Main St\", city=\"Anytown\", state=\"CA\", zipcode=\"12345\")"
      ],
      "metadata": {
        "colab": {
          "base_uri": "https://localhost:8080/"
        },
        "id": "hd-VTraaq7sS",
        "outputId": "4812ace5-98f6-4819-f67f-54808cfe061f"
      },
      "execution_count": 22,
      "outputs": [
        {
          "output_type": "stream",
          "name": "stdout",
          "text": [
            "<class 'dict'>\n",
            "\n",
            "street: 123 Main St\n",
            "city: Anytown\n",
            "state: CA\n",
            "zipcode: 12345\n"
          ]
        }
      ]
    },
    {
      "cell_type": "markdown",
      "source": [
        "# Exercise"
      ],
      "metadata": {
        "id": "nBca4lYGtA3w"
      }
    },
    {
      "cell_type": "code",
      "source": [
        "def shipping_label(*args, **kwargs):\n",
        "  for i in args:\n",
        "    print(i, end=\" \")\n",
        "    print()\n",
        "    print()\n",
        "  for key, value in kwargs.items():\n",
        "    print(f\"{key}: {value}\")\n",
        "shipping_label(\"Musfirah\", \"Fayyaz\", \"Ahmed\", \"Ansari\", street=\"123 Main St\", city=\"Anytown\", state=\"CA\", zipcode=\"12345\")\n"
      ],
      "metadata": {
        "colab": {
          "base_uri": "https://localhost:8080/"
        },
        "id": "dNtS7lMas_iT",
        "outputId": "9f121689-f61b-4b0d-fbf0-7c3c95afac55"
      },
      "execution_count": 50,
      "outputs": [
        {
          "output_type": "stream",
          "name": "stdout",
          "text": [
            "Musfirah \n",
            "\n",
            "Fayyaz \n",
            "\n",
            "Ahmed \n",
            "\n",
            "Ansari \n",
            "\n",
            "street: 123 Main St\n",
            "city: Anytown\n",
            "state: CA\n",
            "zipcode: 12345\n"
          ]
        }
      ]
    },
    {
      "cell_type": "code",
      "source": [
        "def shipping_label (*args, **kwargs):\n",
        "  for i in args:\n",
        "    print(i, end=\" \")\n",
        "  print()\n",
        "  print()\n",
        "  print(f\"{kwargs.get('street')}\")\n",
        "\n",
        "  print(f\"{kwargs.get('city')}, {kwargs.get('province')}, {kwargs.get('zip')}\")\n",
        "\n",
        "shipping_label(\"Ms.\", \"Musfirah\", \"Fayyaz\",\n",
        "street=\"Block 4 Clifton\", city=\"Karachi\", province=\"Sindh\", zip=\"74500\")"
      ],
      "metadata": {
        "colab": {
          "base_uri": "https://localhost:8080/"
        },
        "id": "2CARbcx7u_hs",
        "outputId": "90199d5e-b70a-4c88-9b1a-2ef90f15b9a8"
      },
      "execution_count": 57,
      "outputs": [
        {
          "output_type": "stream",
          "name": "stdout",
          "text": [
            "Ms. Musfirah Fayyaz \n",
            "\n",
            "Block 4 Clifton\n",
            "Karachi, Sindh, 74500\n"
          ]
        }
      ]
    },
    {
      "cell_type": "code",
      "source": [
        "\n",
        "def shipping_label(*args, **kwargs):\n",
        "  for i in args:\n",
        "    print(i, end=\" \")\n",
        "  print()\n",
        "  print()\n",
        "  print(f\"{kwargs.get('street')}\")\n",
        "  print(f\"{kwargs.get('city')}, {kwargs.get('province')}, {kwargs.get('zip')}\")\n",
        "\n",
        "shipping_label(\"Ms.\", \"Musfirah\", \"Fayyaz\",\n",
        "street=\"Clifton Block 4\", city=\"Karachi\", province=\"Sindh\", zip=\"74500\")"
      ],
      "metadata": {
        "colab": {
          "base_uri": "https://localhost:8080/"
        },
        "id": "D_SOEGkGwJ-2",
        "outputId": "3384902b-c2a9-4c66-86b6-39fe987c663d"
      },
      "execution_count": 59,
      "outputs": [
        {
          "output_type": "stream",
          "name": "stdout",
          "text": [
            "Ms. Musfirah Fayyaz \n",
            "\n",
            "Clifton Block 4\n",
            "Karachi, Sindh, 74500\n"
          ]
        }
      ]
    },
    {
      "cell_type": "markdown",
      "source": [
        "# Dictionary Assignment"
      ],
      "metadata": {
        "id": "ocKZKhvM_o9r"
      }
    },
    {
      "cell_type": "code",
      "source": [
        "# Create a simple bank system using a dictionary to store customer names & their balances. The program should allow users to enter a customer's name & display their balances. If the customer does not exist, inform the user that the customer is not found."
      ],
      "metadata": {
        "id": "4Y2xwUSb-8K1"
      },
      "execution_count": 224,
      "outputs": []
    },
    {
      "cell_type": "code",
      "source": [],
      "metadata": {
        "id": "fAFr7aCk_ez6"
      },
      "execution_count": null,
      "outputs": []
    },
    {
      "cell_type": "markdown",
      "source": [
        "# EDA - NUMPY & PANDAS"
      ],
      "metadata": {
        "id": "Qol0widP47p1"
      }
    },
    {
      "cell_type": "markdown",
      "source": [
        "# NumPy Numerical Python\n",
        "\n",
        "NumPy (library) handles multi dimentional arrays easily. All maths computations are helpful.\n",
        "Import in models in the form of dictionary.\n",
        "Pandas is used to make this dictionary form datat into table."
      ],
      "metadata": {
        "id": "4mayb_Pp5Iu6"
      }
    },
    {
      "cell_type": "code",
      "source": [
        "import numpy as np  #you can use np and any other word for reference"
      ],
      "metadata": {
        "id": "8QiudTFK49xk"
      },
      "execution_count": 60,
      "outputs": []
    },
    {
      "cell_type": "code",
      "source": [
        "array_1d = np.array([1, 2, 3, 4, 5])\n",
        "print(\"1D Array:\", array_1d)"
      ],
      "metadata": {
        "colab": {
          "base_uri": "https://localhost:8080/"
        },
        "id": "dQW6VJoC4-jc",
        "outputId": "d1cce426-5746-4420-d5bc-e67b8f453966"
      },
      "execution_count": 62,
      "outputs": [
        {
          "output_type": "stream",
          "name": "stdout",
          "text": [
            "1D Array: [1 2 3 4 5]\n"
          ]
        }
      ]
    },
    {
      "cell_type": "code",
      "source": [
        "array_2d = np.array([[1, 2, 3], [4, 5, 6]])\n",
        "print(\"2D Array:\", array_2d)"
      ],
      "metadata": {
        "colab": {
          "base_uri": "https://localhost:8080/"
        },
        "id": "OPGRUgAb4-mZ",
        "outputId": "c0bbca61-1527-4f08-cc4e-8ffb3b711fee"
      },
      "execution_count": 63,
      "outputs": [
        {
          "output_type": "stream",
          "name": "stdout",
          "text": [
            "2D Array: [[1 2 3]\n",
            " [4 5 6]]\n"
          ]
        }
      ]
    },
    {
      "cell_type": "code",
      "source": [
        "\n",
        "# Generate a 1D array of zeros with a specified size\n",
        "zeros_array = np.zeros(5)  # Creates an array of 5 zeros\n",
        "print(zeros_array)\n",
        "\n",
        "# Generate a 2D array of zeros with specified rows and columns\n",
        "zeros_2d_array = np.zeros((3, 4)) # Creates a 3x4 array of zeros\n",
        "zeros_2d_array"
      ],
      "metadata": {
        "colab": {
          "base_uri": "https://localhost:8080/"
        },
        "id": "DKGuf-jT4-oc",
        "outputId": "7d658e7f-f269-4464-f497-975a652174bc"
      },
      "execution_count": 65,
      "outputs": [
        {
          "output_type": "stream",
          "name": "stdout",
          "text": [
            "[0. 0. 0. 0. 0.]\n"
          ]
        },
        {
          "output_type": "execute_result",
          "data": {
            "text/plain": [
              "array([[0., 0., 0., 0.],\n",
              "       [0., 0., 0., 0.],\n",
              "       [0., 0., 0., 0.]])"
            ]
          },
          "metadata": {},
          "execution_count": 65
        }
      ]
    },
    {
      "cell_type": "code",
      "source": [
        "# Generate a 1D array of zeros with a specified size\n",
        "zeros_array = np.ones(5)  # Creates an array of 5 zeros\n",
        "print(zeros_array)\n",
        "\n",
        "# Generate a 2D array of zeros with specified rows and columns\n",
        "zeros_2d_array = np.ones((3, 4)) # Creates a 3x4 array of zeros\n",
        "zeros_2d_array"
      ],
      "metadata": {
        "colab": {
          "base_uri": "https://localhost:8080/"
        },
        "id": "kOmkU8pp4-rP",
        "outputId": "c11bc097-cbc8-4e1e-bf9b-dbf25574a38c"
      },
      "execution_count": 66,
      "outputs": [
        {
          "output_type": "stream",
          "name": "stdout",
          "text": [
            "[1. 1. 1. 1. 1.]\n"
          ]
        },
        {
          "output_type": "execute_result",
          "data": {
            "text/plain": [
              "array([[1., 1., 1., 1.],\n",
              "       [1., 1., 1., 1.],\n",
              "       [1., 1., 1., 1.]])"
            ]
          },
          "metadata": {},
          "execution_count": 66
        }
      ]
    },
    {
      "cell_type": "code",
      "source": [
        "range_array = np.arange(0, 10, 2) #starting index, ending index, step size\n",
        "print(\"Array with range:\", range_array)"
      ],
      "metadata": {
        "colab": {
          "base_uri": "https://localhost:8080/"
        },
        "id": "c-aBGB4l4-xI",
        "outputId": "54b36c8d-89a3-4b8a-8168-968b7fed24f2"
      },
      "execution_count": 70,
      "outputs": [
        {
          "output_type": "stream",
          "name": "stdout",
          "text": [
            "Array with range: [0 2 4 6 8]\n"
          ]
        }
      ]
    },
    {
      "cell_type": "code",
      "source": [
        "p_array = np.full((5,4), 5)\n",
        "print(p_array)"
      ],
      "metadata": {
        "colab": {
          "base_uri": "https://localhost:8080/"
        },
        "id": "Gi0yULJN4-z0",
        "outputId": "151fa02c-b028-468d-acd5-c333f335ad80"
      },
      "execution_count": 71,
      "outputs": [
        {
          "output_type": "stream",
          "name": "stdout",
          "text": [
            "[[5 5 5 5]\n",
            " [5 5 5 5]\n",
            " [5 5 5 5]\n",
            " [5 5 5 5]\n",
            " [5 5 5 5]]\n"
          ]
        }
      ]
    },
    {
      "cell_type": "code",
      "source": [
        "lin_array = np.linspace(10, 30, 3)  #start, end, number of values\n",
        "print(\"Evenly spaced values:\", lin_array)"
      ],
      "metadata": {
        "colab": {
          "base_uri": "https://localhost:8080/"
        },
        "id": "YOOoP-hr7NtN",
        "outputId": "45498b85-f2bd-44fa-d095-72ffa15d374e"
      },
      "execution_count": 76,
      "outputs": [
        {
          "output_type": "stream",
          "name": "stdout",
          "text": [
            "Evenly spaced values: [10. 20. 30.]\n"
          ]
        }
      ]
    },
    {
      "cell_type": "code",
      "source": [
        "arange_array = np.arange(10, 30, 5)\n",
        "print(arange_array)"
      ],
      "metadata": {
        "colab": {
          "base_uri": "https://localhost:8080/"
        },
        "id": "xCe41Epy7ahq",
        "outputId": "f7892d41-d00f-4848-d351-a25d060e4957"
      },
      "execution_count": 77,
      "outputs": [
        {
          "output_type": "stream",
          "name": "stdout",
          "text": [
            "[10 15 20 25]\n"
          ]
        }
      ]
    },
    {
      "cell_type": "code",
      "source": [
        "b = np.random.uniform(10, 30, 5)\n",
        "print(b)"
      ],
      "metadata": {
        "colab": {
          "base_uri": "https://localhost:8080/"
        },
        "id": "zXRIR_Dz8DDp",
        "outputId": "9f3bfa8d-0775-43c9-e0ed-de26128cd236"
      },
      "execution_count": 78,
      "outputs": [
        {
          "output_type": "stream",
          "name": "stdout",
          "text": [
            "[10.79085714 25.39942112 26.57478528 21.03338801 16.4866974 ]\n"
          ]
        }
      ]
    },
    {
      "cell_type": "code",
      "source": [
        "a = np.random.random((3, 4))\n",
        "print(a)"
      ],
      "metadata": {
        "colab": {
          "base_uri": "https://localhost:8080/"
        },
        "id": "ChnfibwC8JHl",
        "outputId": "50f87f86-c262-4fd5-b72f-51092386a0fd"
      },
      "execution_count": 79,
      "outputs": [
        {
          "output_type": "stream",
          "name": "stdout",
          "text": [
            "[[0.61669327 0.19782928 0.74869057 0.3789249 ]\n",
            " [0.80927424 0.7586037  0.12294397 0.73088723]\n",
            " [0.75577937 0.1669054  0.84181955 0.30017475]]\n"
          ]
        }
      ]
    },
    {
      "cell_type": "code",
      "source": [
        "c = np.random.randint(10, 30, (3,5))\n",
        "print(c)"
      ],
      "metadata": {
        "colab": {
          "base_uri": "https://localhost:8080/"
        },
        "id": "NetMG8vl8Nlx",
        "outputId": "6679bb8b-5a6c-4eca-c9d3-e8359536bf29"
      },
      "execution_count": 85,
      "outputs": [
        {
          "output_type": "stream",
          "name": "stdout",
          "text": [
            "[[10 14 22 25 16]\n",
            " [11 27 21 14 10]\n",
            " [13 18 22 21 10]]\n"
          ]
        }
      ]
    },
    {
      "cell_type": "code",
      "source": [
        "print(c.shape)"
      ],
      "metadata": {
        "colab": {
          "base_uri": "https://localhost:8080/"
        },
        "id": "MF0d1PXt8QET",
        "outputId": "116ca7a5-9d21-4e0a-cce2-11b8d0d4e4a1"
      },
      "execution_count": 86,
      "outputs": [
        {
          "output_type": "stream",
          "name": "stdout",
          "text": [
            "(3, 5)\n"
          ]
        }
      ]
    },
    {
      "cell_type": "code",
      "source": [
        "print(c.ndim)"
      ],
      "metadata": {
        "colab": {
          "base_uri": "https://localhost:8080/"
        },
        "id": "bEOpWaT-8Vs_",
        "outputId": "ec3761db-2916-40c2-a31c-a433a1cb0b61"
      },
      "execution_count": 87,
      "outputs": [
        {
          "output_type": "stream",
          "name": "stdout",
          "text": [
            "2\n"
          ]
        }
      ]
    },
    {
      "cell_type": "code",
      "source": [
        "print(c.size)"
      ],
      "metadata": {
        "colab": {
          "base_uri": "https://localhost:8080/"
        },
        "id": "nlbunq7F8Yht",
        "outputId": "f3613ea1-3904-4dde-f7ae-217569b6a087"
      },
      "execution_count": 88,
      "outputs": [
        {
          "output_type": "stream",
          "name": "stdout",
          "text": [
            "15\n"
          ]
        }
      ]
    },
    {
      "cell_type": "code",
      "source": [
        "print(c.dtype)"
      ],
      "metadata": {
        "colab": {
          "base_uri": "https://localhost:8080/"
        },
        "id": "YijplcFX8asc",
        "outputId": "f0680dd8-57fc-4d4e-e614-a188d53ec76f"
      },
      "execution_count": 89,
      "outputs": [
        {
          "output_type": "stream",
          "name": "stdout",
          "text": [
            "int64\n"
          ]
        }
      ]
    },
    {
      "cell_type": "code",
      "source": [
        "d = a.reshape(2, 6)\n",
        "print(d)\n",
        "print(d.shape)"
      ],
      "metadata": {
        "colab": {
          "base_uri": "https://localhost:8080/"
        },
        "id": "d34HE0g58k8M",
        "outputId": "39b8afb1-86e3-422b-e68b-56d5bd363bf3"
      },
      "execution_count": 91,
      "outputs": [
        {
          "output_type": "stream",
          "name": "stdout",
          "text": [
            "[[0.61669327 0.19782928 0.74869057 0.3789249  0.80927424 0.7586037 ]\n",
            " [0.12294397 0.73088723 0.75577937 0.1669054  0.84181955 0.30017475]]\n",
            "(2, 6)\n"
          ]
        }
      ]
    },
    {
      "cell_type": "code",
      "source": [
        "\n",
        "list = [[1, 2, 3], [4, 5, 6], [7, 8, 9]]\n",
        "\n",
        "numpy_array = np.array(list)\n",
        "\n",
        "numpy_array"
      ],
      "metadata": {
        "colab": {
          "base_uri": "https://localhost:8080/"
        },
        "id": "mIZIUhmJ8wRW",
        "outputId": "e148effe-5c7d-4c34-acc9-f277b9e04bc9"
      },
      "execution_count": 94,
      "outputs": [
        {
          "output_type": "execute_result",
          "data": {
            "text/plain": [
              "array([[1, 2, 3],\n",
              "       [4, 5, 6],\n",
              "       [7, 8, 9]])"
            ]
          },
          "metadata": {},
          "execution_count": 94
        }
      ]
    },
    {
      "cell_type": "code",
      "source": [
        "array_1 = np.array([1, 2, 3])\n",
        "array_2 = np.array([4, 5, 6])\n",
        "\n",
        "concatenated_array = np.concatenate((array_1, array_2))\n",
        "\n",
        "concatenated_array"
      ],
      "metadata": {
        "colab": {
          "base_uri": "https://localhost:8080/"
        },
        "id": "qiSvWJlW9MQV",
        "outputId": "03495382-01b8-4a72-f7be-2efdbbc5da16"
      },
      "execution_count": 98,
      "outputs": [
        {
          "output_type": "execute_result",
          "data": {
            "text/plain": [
              "array([1, 2, 3, 4, 5, 6])"
            ]
          },
          "metadata": {},
          "execution_count": 98
        }
      ]
    },
    {
      "cell_type": "code",
      "source": [
        "\n",
        "a = np.array([1, 2, 3, 4, 5])\n",
        "b = np.array([6, 7, 8, 9, 10])\n",
        "\n",
        "addition_result = np.add(a, b)  # or a + b\n",
        "print(\"Addition:\", addition_result)\n",
        "\n",
        "subtraction_result = np.subtract(a, b) # or a - b\n",
        "print(\"Subtraction:\", subtraction_result)\n",
        "\n",
        "multiplication_result = np.multiply(a, b) # or a * b\n",
        "print(\"Multiplication:\", multiplication_result)\n",
        "\n",
        "division_result = np.divide(a, b) # or a / b\n",
        "print(\"Division:\", division_result)"
      ],
      "metadata": {
        "colab": {
          "base_uri": "https://localhost:8080/"
        },
        "id": "-Ue48GbP9bfk",
        "outputId": "91e3bcd6-1829-46e2-eaf9-b31eacc7861f"
      },
      "execution_count": 102,
      "outputs": [
        {
          "output_type": "stream",
          "name": "stdout",
          "text": [
            "Addition: [5 7 9]\n",
            "Subtraction: [-3 -3 -3]\n",
            "Multiplication: [ 4 10 18]\n",
            "Division: [0.25 0.4  0.5 ]\n"
          ]
        }
      ]
    },
    {
      "cell_type": "code",
      "source": [
        "from time import process_time\n",
        "\n",
        "py_list = (i for i in range(10000000))\n",
        "start_time = process_time()\n",
        "py_list = [i+5 for i in py_list]\n",
        "end_time = process_time()\n",
        "print(end_time - start_time)"
      ],
      "metadata": {
        "colab": {
          "base_uri": "https://localhost:8080/"
        },
        "id": "6RX7rLp89_J3",
        "outputId": "104d4bfe-6c97-429f-d276-29bfaf45add6"
      },
      "execution_count": 101,
      "outputs": [
        {
          "output_type": "stream",
          "name": "stdout",
          "text": [
            "1.4664984640000043\n"
          ]
        }
      ]
    },
    {
      "cell_type": "code",
      "source": [
        "#TEMPERATTURE READING OF MONTH Assignment\n",
        "\n",
        "#numpy arrays using random function (between 15 to 35)\n",
        "#.min .max .average functions\n",
        "#values greater than 30 should be inserted in new variable or new array\n",
        "#tell location of last one using rmax\n",
        "#change the dimension of datta set use 5 week instead 4, pad 2 extra values in temp dataset or make new var & remove any 2 val\n"
      ],
      "metadata": {
        "id": "0WwGGAvN-g1X"
      },
      "execution_count": 103,
      "outputs": []
    },
    {
      "cell_type": "code",
      "source": [
        "\n",
        "def create_account(accounts):\n",
        "  name = input(\"Enter account holder's name: \")\n",
        "  account_number = input(\"Enter account number: \")\n",
        "  if account_number in accounts:\n",
        "    print(\"Account number already exists.\")\n",
        "    return\n",
        "  accounts[account_number] = {\"name\": name, \"balance\": 0, \"transactions\": []}\n",
        "  print(f\"Account created for {name} (Account #{account_number})\")\n",
        "\n",
        "def deposit(accounts):\n",
        "  account_number = input(\"Enter account number: \")\n",
        "  if account_number not in accounts:\n",
        "    print(\"Account not found.\")\n",
        "    return\n",
        "  amount = float(input(\"Enter amount to deposit: \"))\n",
        "  if amount <= 0:\n",
        "    print(\"Invalid deposit amount.\")\n",
        "    return\n",
        "  accounts[account_number][\"balance\"] += amount\n",
        "  accounts[account_number][\"transactions\"].append(f\"Deposit: +${amount:.2f}\")\n",
        "  print(f\"${amount:.2f} deposited successfully.\")\n",
        "\n",
        "def withdraw(accounts):\n",
        "  account_number = input(\"Enter account number: \")\n",
        "  if account_number not in accounts:\n",
        "    print(\"Account not found.\")\n",
        "    return\n",
        "  amount = float(input(\"Enter amount to withdraw: \"))\n",
        "  if amount <= 0:\n",
        "    print(\"Invalid withdrawal amount.\")\n",
        "    return\n",
        "  if accounts[account_number][\"balance\"] < amount:\n",
        "    print(\"Insufficient funds.\")\n",
        "    return\n",
        "  accounts[account_number][\"balance\"] -= amount\n",
        "  accounts[account_number][\"transactions\"].append(f\"Withdrawal: -${amount:.2f}\")\n",
        "  print(f\"${amount:.2f} withdrawn successfully.\")\n",
        "\n",
        "def check_balance(accounts):\n",
        "  account_number = input(\"Enter account number: \")\n",
        "  if account_number not in accounts:\n",
        "    print(\"Account not found.\")\n",
        "    return\n",
        "  balance = accounts[account_number][\"balance\"]\n",
        "  print(f\"Account balance: ${balance:.2f}\")\n",
        "\n",
        "def view_transactions(accounts):\n",
        "  account_number = input(\"Enter account number: \")\n",
        "  if account_number not in accounts:\n",
        "    print(\"Account not found.\")\n",
        "    return\n",
        "  transactions = accounts[account_number][\"transactions\"]\n",
        "  if not transactions:\n",
        "    print(\"No transactions found for this account.\")\n",
        "  else:\n",
        "    print(\"Transaction history:\")\n",
        "    for transaction in transactions:\n",
        "      print(transaction)\n",
        "\n",
        "def main():\n",
        "  accounts = {}  # Use a dictionary to store account information\n",
        "\n",
        "  while True:\n",
        "    print(\"\\nBanking System Menu:\")\n",
        "    print(\"1. Create Account\")\n",
        "    print(\"2. Deposit\")\n",
        "    print(\"3. Withdraw\")\n",
        "    print(\"4. Check Balance\")\n",
        "    print(\"5. View Transactions\")\n",
        "    print(\"6. Exit\")\n",
        "\n",
        "    choice = input(\"Enter your choice: \")\n",
        "\n",
        "    if choice == '1':\n",
        "      create_account(accounts)\n",
        "    elif choice == '2':\n",
        "      deposit(accounts)\n",
        "    elif choice == '3':\n",
        "      withdraw(accounts)\n",
        "    elif choice == '4':\n",
        "      check_balance(accounts)\n",
        "    elif choice == '5':\n",
        "      view_transactions(accounts)\n",
        "    elif choice == '6':\n",
        "      print(\"Exiting...\")\n",
        "      break\n",
        "    else:\n",
        "      print(\"Invalid choice. Please try again.\")\n",
        "\n",
        "if __name__ == \"__main__\":\n",
        "  main()"
      ],
      "metadata": {
        "id": "wJhFG9LZ_1KE"
      },
      "execution_count": null,
      "outputs": []
    },
    {
      "cell_type": "code",
      "source": [
        "#Practical application & mini project (banking system)\n",
        "#write pass below each function so that it won't pass errors\n",
        "\n",
        "#1 create acc\n",
        "\n",
        "def create_acc(acc):\n",
        "  name = input(\"Enter your name: \")\n",
        "  acc_no = input(\"Enter account number: \")\n",
        "  if acc_no in acc:\n",
        "    print(\"Account number already exists.\")\n",
        "    return\n",
        "  acc[acc_no] = {\"name\": name, \"balance\": 0, \"transactions\": []}\n",
        "  print(f\"Account created for {name}, (Account #{acc_no})\")\n",
        "\n",
        "#2 deposit\n",
        "def deposit(amount):\n",
        "  pass\n",
        "  if amount <= 0:\n",
        "    print(\"Invalid deposit amount.\")\n",
        "\n",
        "#3 withdraw\n",
        "\n",
        "def withdraw(amount):\n",
        "  pass\n",
        "  if amount <= 0:\n",
        "    print(\"Invalid withdrawal amount.\")\n",
        "#4 balance check\n",
        "def check_balance(acc):\n",
        "  pass\n",
        "#5 view balance\n",
        "def view_transactions(acc):\n",
        "  pass\n",
        "#6 end (optional)\n",
        "def end():\n",
        "  pass\n",
        "\n",
        "def main():\n",
        "  acc = {}  # Use a dictionary to store account information\n",
        "\n",
        "  while True:\n",
        "    print(\"Banking System Menu:\")\n",
        "    print(\"1. Create Account\")\n",
        "    print(\"2. Deposit\")\n",
        "    print(\"3. Withdraw\")\n",
        "    print(\"4. Check Balance\")\n",
        "    print(\"5. View Transactions\")\n",
        "    print(\"6. Exit\")\n",
        "\n",
        "    select = input(\"Enter number you want to choose: \")\n",
        "\n",
        "    if select == '1':\n",
        "      create_acc(acc)\n",
        "    elif select == '2':\n",
        "      deposit(acc)\n",
        "    elif select == '3':\n",
        "      withdraw(acc)\n",
        "    elif select == '4':\n",
        "      check_balance(acc)\n",
        "    elif select == '5':\n",
        "      view_transactions(acc)\n",
        "    elif select == '6':\n",
        "      print(\"Closing the MENU. Have a good day! Thankyou for reaching out\")\n",
        "      break\n",
        "    else:\n",
        "      print(\"Invalid number selected. Please try again.\")\n",
        "\n",
        "if __name__ == \"__main__\":\n",
        "  main()"
      ],
      "metadata": {
        "colab": {
          "base_uri": "https://localhost:8080/"
        },
        "id": "x9YKbIZ2Aof8",
        "outputId": "dab2fe53-b937-4a91-d1ae-15aad30ebf8f"
      },
      "execution_count": null,
      "outputs": [
        {
          "output_type": "stream",
          "name": "stdout",
          "text": [
            "Banking System Menu:\n",
            "1. Create Account\n",
            "2. Deposit\n",
            "3. Withdraw\n",
            "4. Check Balance\n",
            "5. View Transactions\n",
            "6. Exit\n"
          ]
        }
      ]
    },
    {
      "cell_type": "code",
      "source": [],
      "metadata": {
        "id": "xLb1c6RRBPbb"
      },
      "execution_count": null,
      "outputs": []
    }
  ]
}